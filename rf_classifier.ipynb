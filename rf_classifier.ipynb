{
 "cells": [
  {
   "cell_type": "markdown",
   "metadata": {},
   "source": [
    "# Introduction"
   ]
  },
  {
   "cell_type": "markdown",
   "metadata": {},
   "source": [
    "Fortunately, with libraries such as Scikit-Learn, it’s now easy to build and use almost any machine learning algorithm. But it’s helpful to have an idea of how a machine learning model works under the hood. This lets us diagnose the model when it’s underperforming or explain how it makes decisions, which is crucial if we want to convince others to trust our models.\n",
    "In this assignment, we’ll look at how to build and use the Decision Tree and the Random Forest in Python. We’ll start by understanding how a single decision tree makes classifications on a simple problem. Then, we’ll work our way to using a random forest on a real-world data science problem."
   ]
  },
  {
   "cell_type": "markdown",
   "metadata": {},
   "source": [
    "# Dataset"
   ]
  },
  {
   "cell_type": "markdown",
   "metadata": {},
   "source": [
    "The dataset we will use in this assignment is the Sonar dataset.\n",
    "\n",
    "This is a dataset that describes sonar chirp returns bouncing off different surfaces. The 60 predictors are the strength of the returns at different angles. It is a binary classification problem that requires a model to differentiate rocks from metal cylinders. There are 208 observations.\n",
    "\n",
    "It is a well-understood dataset. All of the variables are continuous and generally in the range of 0 to 1. The output variable is a string “M” for mine and “R” for rock, which will need to be converted to integers 1 and 0.\n",
    "\n",
    "By predicting the class with the most observations in the dataset (M or mines) the Zero Rule Algorithm can achieve an accuracy of 53%.\n",
    "\n",
    "You can learn more about this dataset at the UCI Machine Learning repository.\n",
    "https://archive.ics.uci.edu/ml/datasets/Connectionist+Bench+(Sonar,+Mines+vs.+Rocks)\n",
    "\n",
    "Download the dataset for free and place it in the \"data\" folder in your working directory with the filename sonar.all-data.csv."
   ]
  },
  {
   "cell_type": "markdown",
   "metadata": {},
   "source": [
    "# Import section"
   ]
  },
  {
   "cell_type": "code",
   "execution_count": 1,
   "metadata": {
    "ExecuteTime": {
     "end_time": "2021-03-08T09:46:40.860919Z",
     "start_time": "2021-03-08T09:46:27.768924Z"
    }
   },
   "outputs": [],
   "source": [
    "import random\n",
    "import numpy as np\n",
    "import pandas as pd\n",
    "from sklearn.model_selection import train_test_split\n",
    "from sklearn.metrics import accuracy_score\n",
    "from sklearn.metrics import mean_squared_error\n",
    "from sklearn.ensemble import RandomForestRegressor\n",
    "from sklearn.tree import DecisionTreeRegressor\n",
    "from sklearn.ensemble import RandomForestRegressor\n",
    "from joblib import Parallel, delayed\n",
    "import time\n",
    "\n",
    "np.random.seed(2020)\n",
    "random.seed(2020)"
   ]
  },
  {
   "cell_type": "markdown",
   "metadata": {},
   "source": [
    "# Preprocess data"
   ]
  },
  {
   "cell_type": "markdown",
   "metadata": {},
   "source": [
    "Read data and convert targets to integers 1 and 0."
   ]
  },
  {
   "cell_type": "code",
   "execution_count": 239,
   "metadata": {
    "ExecuteTime": {
     "end_time": "2021-03-07T21:41:18.817425Z",
     "start_time": "2021-03-07T21:41:18.785984Z"
    }
   },
   "outputs": [
    {
     "data": {
      "text/html": [
       "<div>\n",
       "<style scoped>\n",
       "    .dataframe tbody tr th:only-of-type {\n",
       "        vertical-align: middle;\n",
       "    }\n",
       "\n",
       "    .dataframe tbody tr th {\n",
       "        vertical-align: top;\n",
       "    }\n",
       "\n",
       "    .dataframe thead th {\n",
       "        text-align: right;\n",
       "    }\n",
       "</style>\n",
       "<table border=\"1\" class=\"dataframe\">\n",
       "  <thead>\n",
       "    <tr style=\"text-align: right;\">\n",
       "      <th></th>\n",
       "      <th>feat_0</th>\n",
       "      <th>feat_1</th>\n",
       "      <th>feat_2</th>\n",
       "      <th>feat_3</th>\n",
       "      <th>feat_4</th>\n",
       "      <th>feat_5</th>\n",
       "      <th>feat_6</th>\n",
       "      <th>feat_7</th>\n",
       "      <th>feat_8</th>\n",
       "      <th>feat_9</th>\n",
       "      <th>...</th>\n",
       "      <th>feat_51</th>\n",
       "      <th>feat_52</th>\n",
       "      <th>feat_53</th>\n",
       "      <th>feat_54</th>\n",
       "      <th>feat_55</th>\n",
       "      <th>feat_56</th>\n",
       "      <th>feat_57</th>\n",
       "      <th>feat_58</th>\n",
       "      <th>feat_59</th>\n",
       "      <th>target</th>\n",
       "    </tr>\n",
       "  </thead>\n",
       "  <tbody>\n",
       "    <tr>\n",
       "      <th>0</th>\n",
       "      <td>0.0200</td>\n",
       "      <td>0.0371</td>\n",
       "      <td>0.0428</td>\n",
       "      <td>0.0207</td>\n",
       "      <td>0.0954</td>\n",
       "      <td>0.0986</td>\n",
       "      <td>0.1539</td>\n",
       "      <td>0.1601</td>\n",
       "      <td>0.3109</td>\n",
       "      <td>0.2111</td>\n",
       "      <td>...</td>\n",
       "      <td>0.0027</td>\n",
       "      <td>0.0065</td>\n",
       "      <td>0.0159</td>\n",
       "      <td>0.0072</td>\n",
       "      <td>0.0167</td>\n",
       "      <td>0.0180</td>\n",
       "      <td>0.0084</td>\n",
       "      <td>0.0090</td>\n",
       "      <td>0.0032</td>\n",
       "      <td>0</td>\n",
       "    </tr>\n",
       "    <tr>\n",
       "      <th>1</th>\n",
       "      <td>0.0453</td>\n",
       "      <td>0.0523</td>\n",
       "      <td>0.0843</td>\n",
       "      <td>0.0689</td>\n",
       "      <td>0.1183</td>\n",
       "      <td>0.2583</td>\n",
       "      <td>0.2156</td>\n",
       "      <td>0.3481</td>\n",
       "      <td>0.3337</td>\n",
       "      <td>0.2872</td>\n",
       "      <td>...</td>\n",
       "      <td>0.0084</td>\n",
       "      <td>0.0089</td>\n",
       "      <td>0.0048</td>\n",
       "      <td>0.0094</td>\n",
       "      <td>0.0191</td>\n",
       "      <td>0.0140</td>\n",
       "      <td>0.0049</td>\n",
       "      <td>0.0052</td>\n",
       "      <td>0.0044</td>\n",
       "      <td>0</td>\n",
       "    </tr>\n",
       "    <tr>\n",
       "      <th>2</th>\n",
       "      <td>0.0262</td>\n",
       "      <td>0.0582</td>\n",
       "      <td>0.1099</td>\n",
       "      <td>0.1083</td>\n",
       "      <td>0.0974</td>\n",
       "      <td>0.2280</td>\n",
       "      <td>0.2431</td>\n",
       "      <td>0.3771</td>\n",
       "      <td>0.5598</td>\n",
       "      <td>0.6194</td>\n",
       "      <td>...</td>\n",
       "      <td>0.0232</td>\n",
       "      <td>0.0166</td>\n",
       "      <td>0.0095</td>\n",
       "      <td>0.0180</td>\n",
       "      <td>0.0244</td>\n",
       "      <td>0.0316</td>\n",
       "      <td>0.0164</td>\n",
       "      <td>0.0095</td>\n",
       "      <td>0.0078</td>\n",
       "      <td>0</td>\n",
       "    </tr>\n",
       "    <tr>\n",
       "      <th>3</th>\n",
       "      <td>0.0100</td>\n",
       "      <td>0.0171</td>\n",
       "      <td>0.0623</td>\n",
       "      <td>0.0205</td>\n",
       "      <td>0.0205</td>\n",
       "      <td>0.0368</td>\n",
       "      <td>0.1098</td>\n",
       "      <td>0.1276</td>\n",
       "      <td>0.0598</td>\n",
       "      <td>0.1264</td>\n",
       "      <td>...</td>\n",
       "      <td>0.0121</td>\n",
       "      <td>0.0036</td>\n",
       "      <td>0.0150</td>\n",
       "      <td>0.0085</td>\n",
       "      <td>0.0073</td>\n",
       "      <td>0.0050</td>\n",
       "      <td>0.0044</td>\n",
       "      <td>0.0040</td>\n",
       "      <td>0.0117</td>\n",
       "      <td>0</td>\n",
       "    </tr>\n",
       "    <tr>\n",
       "      <th>4</th>\n",
       "      <td>0.0762</td>\n",
       "      <td>0.0666</td>\n",
       "      <td>0.0481</td>\n",
       "      <td>0.0394</td>\n",
       "      <td>0.0590</td>\n",
       "      <td>0.0649</td>\n",
       "      <td>0.1209</td>\n",
       "      <td>0.2467</td>\n",
       "      <td>0.3564</td>\n",
       "      <td>0.4459</td>\n",
       "      <td>...</td>\n",
       "      <td>0.0031</td>\n",
       "      <td>0.0054</td>\n",
       "      <td>0.0105</td>\n",
       "      <td>0.0110</td>\n",
       "      <td>0.0015</td>\n",
       "      <td>0.0072</td>\n",
       "      <td>0.0048</td>\n",
       "      <td>0.0107</td>\n",
       "      <td>0.0094</td>\n",
       "      <td>0</td>\n",
       "    </tr>\n",
       "  </tbody>\n",
       "</table>\n",
       "<p>5 rows × 61 columns</p>\n",
       "</div>"
      ],
      "text/plain": [
       "   feat_0  feat_1  feat_2  feat_3  feat_4  feat_5  feat_6  feat_7  feat_8  \\\n",
       "0  0.0200  0.0371  0.0428  0.0207  0.0954  0.0986  0.1539  0.1601  0.3109   \n",
       "1  0.0453  0.0523  0.0843  0.0689  0.1183  0.2583  0.2156  0.3481  0.3337   \n",
       "2  0.0262  0.0582  0.1099  0.1083  0.0974  0.2280  0.2431  0.3771  0.5598   \n",
       "3  0.0100  0.0171  0.0623  0.0205  0.0205  0.0368  0.1098  0.1276  0.0598   \n",
       "4  0.0762  0.0666  0.0481  0.0394  0.0590  0.0649  0.1209  0.2467  0.3564   \n",
       "\n",
       "   feat_9  ...  feat_51  feat_52  feat_53  feat_54  feat_55  feat_56  feat_57  \\\n",
       "0  0.2111  ...   0.0027   0.0065   0.0159   0.0072   0.0167   0.0180   0.0084   \n",
       "1  0.2872  ...   0.0084   0.0089   0.0048   0.0094   0.0191   0.0140   0.0049   \n",
       "2  0.6194  ...   0.0232   0.0166   0.0095   0.0180   0.0244   0.0316   0.0164   \n",
       "3  0.1264  ...   0.0121   0.0036   0.0150   0.0085   0.0073   0.0050   0.0044   \n",
       "4  0.4459  ...   0.0031   0.0054   0.0105   0.0110   0.0015   0.0072   0.0048   \n",
       "\n",
       "   feat_58  feat_59  target  \n",
       "0   0.0090   0.0032       0  \n",
       "1   0.0052   0.0044       0  \n",
       "2   0.0095   0.0078       0  \n",
       "3   0.0040   0.0117       0  \n",
       "4   0.0107   0.0094       0  \n",
       "\n",
       "[5 rows x 61 columns]"
      ]
     },
     "execution_count": 239,
     "metadata": {},
     "output_type": "execute_result"
    }
   ],
   "source": [
    "PATH = 'data/'\n",
    "df = pd.read_csv(PATH+'sonar-all-data.csv', header=None)\n",
    "df.columns = [f'feat_{col}' if col!=60 else 'target' for col in df.columns]\n",
    "df['target'] = df['target'].map({'M': 1, 'R': 0})\n",
    "df.head()"
   ]
  },
  {
   "cell_type": "markdown",
   "metadata": {},
   "source": [
    "# Split data (train and test)"
   ]
  },
  {
   "cell_type": "code",
   "execution_count": 240,
   "metadata": {
    "ExecuteTime": {
     "end_time": "2021-03-07T21:41:19.557814Z",
     "start_time": "2021-03-07T21:41:19.552729Z"
    }
   },
   "outputs": [],
   "source": [
    "X_train, X_test, y_train, y_test = train_test_split(df.drop(columns='target'), df['target'], test_size=0.2, random_state=2020)"
   ]
  },
  {
   "cell_type": "markdown",
   "metadata": {},
   "source": [
    "# Cost functions"
   ]
  },
  {
   "cell_type": "markdown",
   "metadata": {},
   "source": [
    "In this section you should implement two cost functions. Any of these can be used in the model."
   ]
  },
  {
   "cell_type": "markdown",
   "metadata": {},
   "source": [
    "## Gini index"
   ]
  },
  {
   "cell_type": "code",
   "execution_count": 60,
   "metadata": {
    "ExecuteTime": {
     "end_time": "2021-03-07T15:13:36.201648Z",
     "start_time": "2021-03-07T15:13:36.198557Z"
    }
   },
   "outputs": [],
   "source": [
    "def gini_index(x):\n",
    "    \"\"\" Calculate Gini Index for a node\n",
    "    Args:\n",
    "        x: Numpy-array of targets in a node\n",
    "    Returns:\n",
    "        float: Gini index\n",
    "    \"\"\"    \n",
    "    if len(x) == 0:\n",
    "        return 0.0\n",
    "    p = np.bincount(x) / len(x)\n",
    "    return 1 - np.sum(p*p)"
   ]
  },
  {
   "cell_type": "code",
   "execution_count": 61,
   "metadata": {
    "ExecuteTime": {
     "end_time": "2021-03-07T15:13:36.206722Z",
     "start_time": "2021-03-07T15:13:36.203696Z"
    }
   },
   "outputs": [
    {
     "data": {
      "text/plain": [
       "0.4977348372781065"
      ]
     },
     "execution_count": 61,
     "metadata": {},
     "output_type": "execute_result"
    }
   ],
   "source": [
    "target = df['target'].values\n",
    "gini_index(target)"
   ]
  },
  {
   "cell_type": "code",
   "execution_count": 62,
   "metadata": {
    "ExecuteTime": {
     "end_time": "2021-03-07T15:13:36.211386Z",
     "start_time": "2021-03-07T15:13:36.208657Z"
    }
   },
   "outputs": [],
   "source": [
    "def gini_gain(parent_node, splits):\n",
    "    \"\"\" Calculate Gini Gain for a particular split\n",
    "    Args:\n",
    "        parent_node: Numpy-array of targets in a parent node\n",
    "        splits: List of two numpy-arrays. Each numpy-array is targets in a child node\n",
    "    Returns:\n",
    "        float: Gini gain\n",
    "    \"\"\"       \n",
    "    splits_gini = np.sum([gini_index(split)*(len(split)/len(parent_node)) for split in splits])\n",
    "    return gini_index(parent_node) - splits_gini"
   ]
  },
  {
   "cell_type": "code",
   "execution_count": 63,
   "metadata": {
    "ExecuteTime": {
     "end_time": "2021-03-07T15:13:36.216556Z",
     "start_time": "2021-03-07T15:13:36.212821Z"
    }
   },
   "outputs": [
    {
     "data": {
      "text/plain": [
       "-0.0003705758273065962"
      ]
     },
     "execution_count": 63,
     "metadata": {},
     "output_type": "execute_result"
    }
   ],
   "source": [
    "splits = [np.random.choice(df['target'].values, 100), np.random.choice(df['target'].values, 108)]\n",
    "gini_gain(target, splits)"
   ]
  },
  {
   "cell_type": "markdown",
   "metadata": {},
   "source": [
    "## Entropy"
   ]
  },
  {
   "cell_type": "code",
   "execution_count": 64,
   "metadata": {
    "ExecuteTime": {
     "end_time": "2021-03-07T15:13:36.220823Z",
     "start_time": "2021-03-07T15:13:36.217873Z"
    },
    "code_folding": [
     0
    ]
   },
   "outputs": [],
   "source": [
    "def entropy(x):\n",
    "    \"\"\" Calculate Entropy for a node\n",
    "    Args:\n",
    "        x: Numpy-array of targets in a node\n",
    "    Returns:\n",
    "        float: Entropy\n",
    "    \"\"\"\n",
    "    if len(x) == 0:\n",
    "        return 0.0\n",
    "    p = np.clip(np.bincount(x) / len(x), 1e-15, 1.)\n",
    "    return -np.sum(p * np.log(p))"
   ]
  },
  {
   "cell_type": "code",
   "execution_count": 65,
   "metadata": {
    "ExecuteTime": {
     "end_time": "2021-03-07T15:13:36.225026Z",
     "start_time": "2021-03-07T15:13:36.222210Z"
    },
    "code_folding": [
     0
    ]
   },
   "outputs": [],
   "source": [
    "def information_gain(parent_node, splits):\n",
    "    \"\"\" Calculate Information Gain for a particular split\n",
    "    Args:\n",
    "        parent_node: Numpy-array of targets in a parent node\n",
    "        splits: List of two numpy-arrays. Each numpy-array is targets in a child node\n",
    "    Returns:\n",
    "        float: Information Gain\n",
    "    \"\"\"     \n",
    "    splits_entropy = np.sum([entropy(split)*(len(split)/len(parent_node)) for split in splits])\n",
    "    return entropy(parent_node) - splits_entropy"
   ]
  },
  {
   "cell_type": "markdown",
   "metadata": {},
   "source": [
    "# Split function"
   ]
  },
  {
   "cell_type": "markdown",
   "metadata": {},
   "source": [
    "Implement split functions"
   ]
  },
  {
   "cell_type": "code",
   "execution_count": 66,
   "metadata": {
    "ExecuteTime": {
     "end_time": "2021-03-07T15:13:36.230548Z",
     "start_time": "2021-03-07T15:13:36.226472Z"
    },
    "code_folding": [
     0,
     14
    ]
   },
   "outputs": [],
   "source": [
    "def split(X, y, value):\n",
    "    \"\"\" Split y-values in order to calculate gain later\n",
    "    Args:\n",
    "        X: 1-dimensional numpy-array of data predictor with shape (N,)\n",
    "        y: 1-dimensional numpy-array of targets with shape (N,)\n",
    "        value (float): the value by which the X should be splitted\n",
    "    Returns:\n",
    "        Two 1-dimensional numpy-arrays with targets related to splits\n",
    "    \"\"\"      \n",
    "    left_mask = X < value\n",
    "    right_mask = X >= value\n",
    "    return y[left_mask], y[right_mask]\n",
    "\n",
    "\n",
    "def split_dataset(X, y, column, value):\n",
    "    \"\"\" Split dataset by a particular column and value\n",
    "    Args:\n",
    "        X: 2-dimensional numpy-array (N, num_feats). N-number of samples\n",
    "        y: 1-dimensional numpy-array of targets with shape (N,)  \n",
    "        column (int): the column by which the X should be splitted\n",
    "        value (float): the value by which the column should be splitted\n",
    "    Returns:\n",
    "        Two 2-dimensional numpy-arrays with data and two 1-dimensional numpy-arrays with targets related to splits\n",
    "        left_X, right_X, left_y, right_y\n",
    "    \"\"\"       \n",
    "    left_mask = X[:, column] < value\n",
    "    right_mask = X[:, column] >= value\n",
    "    left_y, right_y = y[left_mask], y[right_mask]\n",
    "    left_X, right_X = X[left_mask], X[right_mask]\n",
    "    return left_X, right_X, left_y, right_y"
   ]
  },
  {
   "cell_type": "markdown",
   "metadata": {},
   "source": [
    "# Decision tree"
   ]
  },
  {
   "cell_type": "code",
   "execution_count": 67,
   "metadata": {
    "ExecuteTime": {
     "end_time": "2021-03-07T15:13:36.246085Z",
     "start_time": "2021-03-07T15:13:36.231996Z"
    },
    "code_folding": []
   },
   "outputs": [],
   "source": [
    "class Tree(object):\n",
    "    \"\"\"A decision tree classifier.\n",
    "\n",
    "    Args:\n",
    "        criterion : {\"gini_gain\", \"information_gain\"}\n",
    "    \"\"\"\n",
    "    def __init__(self, criterion=None):\n",
    "        self.impurity = None\n",
    "        self.threshold = None\n",
    "        self.column_index = None\n",
    "        self.outcome_probs = None\n",
    "        self.criterion = criterion\n",
    "        self.left_child = None\n",
    "        self.right_child = None\n",
    "\n",
    "    @property\n",
    "    def is_terminal(self):\n",
    "        \"\"\" Define is it terminal node\n",
    "        \"\"\"          \n",
    "        return not bool(self.left_child and self.right_child)\n",
    "\n",
    "    def _find_splits(self, X):\n",
    "        \"\"\"Find all possible split values.\"\"\"\n",
    "        split_values = set()\n",
    "\n",
    "        # Get unique values in a sorted order\n",
    "        x_unique = list(np.unique(X))\n",
    "        for i in range(1, len(x_unique)):\n",
    "            # Find a point between two values\n",
    "            average = (x_unique[i - 1] + x_unique[i]) / 2.0\n",
    "            split_values.add(average)\n",
    "\n",
    "        return list(split_values)\n",
    "\n",
    "    def _find_best_split(self, X, y, n_features):\n",
    "        \"\"\"Find best feature and value for a split. Greedy algorithm.\"\"\"\n",
    "\n",
    "        # Sample random subset of features\n",
    "        subset = random.sample(list(range(0, X.shape[1])), n_features)\n",
    "        max_gain, max_col, max_val = None, None, None\n",
    "\n",
    "        for column in subset:\n",
    "            split_values = self._find_splits(X[:, column])\n",
    "            for value in split_values:\n",
    "                splits = split(X[:, column], y, value)\n",
    "                gain = self.criterion(y, splits)\n",
    "\n",
    "                if (max_gain is None) or (gain > max_gain):\n",
    "                    max_col, max_val, max_gain = column, value, gain\n",
    "        return max_col, max_val, max_gain\n",
    "\n",
    "    def fit(self, X, y, n_features=None, max_depth=None):\n",
    "        \"\"\"Fit model.\n",
    "\n",
    "        Args:\n",
    "            X (numpy-array): The training input samples. 2-dimensional numpy array.\n",
    "            y (numpy-array): The target values. 1-dimensional numpy array.\n",
    "            n_features (int): The number of features when fit is performed (default: all features)\n",
    "            max_depth (int): The maximum depth of the tree. If None, then nodes are expanded until\n",
    "                             all leaves are pure.\n",
    "        \"\"\"        \n",
    "        try:\n",
    "            # Exit from recursion using assert syntax\n",
    "            if max_depth is not None:\n",
    "                assert max_depth > 0\n",
    "                max_depth -= 1\n",
    "\n",
    "            if n_features is None:\n",
    "                n_features = X.shape[1]\n",
    "\n",
    "            column, value, gain = self._find_best_split(X, y, n_features)\n",
    "            assert gain is not None\n",
    "\n",
    "            self.column_index = column\n",
    "            self.threshold = value\n",
    "            self.impurity = gain\n",
    "\n",
    "            # Split dataset\n",
    "            left_X, right_X, left_target, right_target = split_dataset(X, y, column, value)\n",
    "\n",
    "            # Grow left and right child\n",
    "            self.left_child = Tree(self.criterion)\n",
    "            self.left_child.fit(\n",
    "                left_X, left_target, n_features, max_depth\n",
    "            )\n",
    "\n",
    "            self.right_child = Tree(self.criterion)\n",
    "            self.right_child.fit(\n",
    "                right_X, right_target, n_features, max_depth\n",
    "            )\n",
    "        except AssertionError:\n",
    "            self.outcome_probs = np.around(np.sum(y) / y.shape[0])\n",
    "\n",
    "\n",
    "    def predict_row(self, row):\n",
    "        \"\"\"Predict single row.\"\"\"\n",
    "        if not self.is_terminal:\n",
    "            if row[self.column_index] < self.threshold:\n",
    "                return self.left_child.predict_row(row)\n",
    "            else:\n",
    "                return self.right_child.predict_row(row)\n",
    "        return self.outcome_probs\n",
    "\n",
    "    def predict(self, X):\n",
    "        \"\"\"Make predictions.\n",
    "\n",
    "        Args:\n",
    "            X (numpy-array): The test input samples. 2-dimensional numpy array.\n",
    "        \"\"\"  \n",
    "        result = np.zeros(X.shape[0])\n",
    "        for i in range(X.shape[0]):\n",
    "            result[i] = self.predict_row(X[i, :])\n",
    "        return result"
   ]
  },
  {
   "cell_type": "markdown",
   "metadata": {},
   "source": [
    "Fit two models with \"max_depth=3\" and \"max_depth=None\" hyperparameters. Explain the results."
   ]
  },
  {
   "cell_type": "code",
   "execution_count": 68,
   "metadata": {
    "ExecuteTime": {
     "end_time": "2021-03-07T15:13:40.347998Z",
     "start_time": "2021-03-07T15:13:36.247475Z"
    }
   },
   "outputs": [
    {
     "name": "stdout",
     "output_type": "stream",
     "text": [
      "Accuracy score is: 0.6666666666666666\n"
     ]
    }
   ],
   "source": [
    "model = Tree(criterion=gini_gain)\n",
    "model.fit(X_train.values, y_train.values)\n",
    "y_pred = model.predict(X_test.values)\n",
    "print(f\"Accuracy score is: {accuracy_score(y_test, y_pred)}\")"
   ]
  },
  {
   "cell_type": "code",
   "execution_count": 69,
   "metadata": {
    "ExecuteTime": {
     "end_time": "2021-03-07T15:13:41.440689Z",
     "start_time": "2021-03-07T15:13:40.351251Z"
    }
   },
   "outputs": [
    {
     "name": "stdout",
     "output_type": "stream",
     "text": [
      "Accuracy score is: 0.6666666666666666\n"
     ]
    }
   ],
   "source": [
    "model = Tree(criterion=gini_gain)\n",
    "model.fit(X_train.values, y_train.values, max_depth=3)\n",
    "y_pred = model.predict(X_test.values)\n",
    "print(f\"Accuracy score is: {accuracy_score(y_test, y_pred)}\")"
   ]
  },
  {
   "cell_type": "code",
   "execution_count": 70,
   "metadata": {
    "ExecuteTime": {
     "end_time": "2021-03-07T15:13:42.747286Z",
     "start_time": "2021-03-07T15:13:41.442932Z"
    }
   },
   "outputs": [
    {
     "name": "stdout",
     "output_type": "stream",
     "text": [
      "Accuracy score is: 0.7380952380952381\n"
     ]
    }
   ],
   "source": [
    "model = Tree(criterion=information_gain)\n",
    "model.fit(X_train.values, y_train.values, max_depth=3)\n",
    "y_pred = model.predict(X_test.values)\n",
    "print(f\"Accuracy score is: {accuracy_score(y_test, y_pred)}\")"
   ]
  },
  {
   "cell_type": "markdown",
   "metadata": {},
   "source": [
    "# Random forest"
   ]
  },
  {
   "cell_type": "code",
   "execution_count": 71,
   "metadata": {
    "ExecuteTime": {
     "end_time": "2021-03-07T15:13:42.762750Z",
     "start_time": "2021-03-07T15:13:42.749053Z"
    },
    "code_folding": []
   },
   "outputs": [],
   "source": [
    "class RandomForestClassifier(object):\n",
    "    \"\"\"\n",
    "    A random forest classifier.\n",
    "    A random forest is a meta estimator that fits a number of decision tree\n",
    "    classifiers on various sub-samples of the dataset and uses averaging to\n",
    "    improve the predictive accuracy and control overfitting.\n",
    "    \n",
    "    Args:\n",
    "        n_estimators : int, default=10\n",
    "            The number of trees in the forest.\n",
    "\n",
    "        max_depth : int, default=None\n",
    "            The maximum depth of the tree. If None, then nodes are expanded until\n",
    "            all leaves are pure.        \n",
    "\n",
    "        n_features : int, default=None\n",
    "            The number of features to consider when looking for the best split.\n",
    "            If None, then `n_features=sqrt(n_features)`.\n",
    "\n",
    "        criterion : {\"gini\", \"entropy\"}, default=\"gini\"\n",
    "            The function to measure the quality of a split. Supported criteria are\n",
    "            \"gini\" for the Gini impurity and \"entropy\" for the information gain.\n",
    "    \"\"\"\n",
    "\n",
    "    def __init__(self, n_estimators=10, max_depth=None, n_features=None, criterion=\"entropy\", bootstrap=True):\n",
    "        self.n_estimators = n_estimators\n",
    "        self.max_depth = max_depth\n",
    "        self.n_features = n_features\n",
    "        self.bootstrap = bootstrap\n",
    "        \n",
    "        if criterion == \"entropy\":\n",
    "            self.criterion = information_gain\n",
    "        elif criterion == \"gini\":\n",
    "            self.criterion = gini_gain\n",
    "        else:\n",
    "            raise ValueError(f\"Unknown criterion '{criterion}'\")\n",
    "            \n",
    "        self.trees = [Tree(criterion=self.criterion) for _ in range(n_estimators)]\n",
    "        \n",
    "    def _init_data(self, X, y):\n",
    "        \"\"\"Ensure data are in the expected format.\n",
    "        Ensures X and y are stored as numpy ndarrays by converting from an\n",
    "        array-like object if necessary. \n",
    "        Parameters\n",
    "        Args:\n",
    "            X : array-like\n",
    "                Feature dataset.\n",
    "            y : array-like, default=None\n",
    "                Target values. By default is required, but if y_required = false\n",
    "                then may be omitted.\n",
    "        \"\"\"\n",
    "        self.size = len(X)\n",
    "        \n",
    "        if not isinstance(X, np.ndarray):\n",
    "            self.X = np.array(X)\n",
    "        else:\n",
    "            self.X = X\n",
    "\n",
    "        if not isinstance(y, np.ndarray):\n",
    "            self.y = np.array(y)\n",
    "        else:\n",
    "            self.y = y\n",
    "            \n",
    "    def bootstrap_data(self, size):\n",
    "        return np.random.randint(size, size=size)\n",
    "    \n",
    "    def fit(self, X, y):\n",
    "        \"\"\"Fit model.\n",
    "\n",
    "        Args:\n",
    "            X (numpy-array): The training input samples. 2-dimensional numpy array.\n",
    "            y (numpy-array): The target values. 1-dimensional numpy array.\n",
    "        \"\"\"         \n",
    "        if self.n_features is None:\n",
    "            self.n_features = int(np.sqrt(X.shape[1]))\n",
    "        elif X.shape[1] < self.n_features:\n",
    "            raise ValueError(f\"'n_features should be <= n_features'\")\n",
    "            \n",
    "        self._init_data(X, y)\n",
    "        \n",
    "        for tree in self.trees:\n",
    "            if self.bootstrap:\n",
    "                idxs = self.bootstrap_data(self.size)\n",
    "                X = self.X[idxs]\n",
    "                y = self.y[idxs]\n",
    "            else:\n",
    "                X = self.X\n",
    "                y = self.y\n",
    "                \n",
    "            tree.fit(\n",
    "                X,\n",
    "                y,\n",
    "                n_features=self.n_features,\n",
    "                max_depth=self.max_depth,\n",
    "            )\n",
    "            \n",
    "    def predict(self, X):\n",
    "        \"\"\"Make predictions.\n",
    "\n",
    "        Args:\n",
    "            X (numpy-array): The test data input samples. 2-dimensional numpy array.\n",
    "        \"\"\"            \n",
    "        if not isinstance(X, np.ndarray):\n",
    "            X = np.array(X)\n",
    "\n",
    "        if self.X is not None:\n",
    "            predictions = np.zeros(len(X))\n",
    "            for i in range(len(X)):\n",
    "                row_pred = 0.\n",
    "                for tree in self.trees:\n",
    "                    row_pred += tree.predict_row(X[i, :])\n",
    "\n",
    "                row_pred /= self.n_estimators\n",
    "                predictions[i] = round(row_pred)\n",
    "            return predictions  \n",
    "        else:\n",
    "            raise ValueError(\"You should fit a model before `predict`\")"
   ]
  },
  {
   "cell_type": "markdown",
   "metadata": {},
   "source": [
    "Fit two models with \"n_estimators=10\" and \"n_estimators=100\" hyperparameters. Explain the results."
   ]
  },
  {
   "cell_type": "code",
   "execution_count": 72,
   "metadata": {
    "ExecuteTime": {
     "end_time": "2021-03-07T15:13:45.958031Z",
     "start_time": "2021-03-07T15:13:42.764546Z"
    }
   },
   "outputs": [
    {
     "name": "stdout",
     "output_type": "stream",
     "text": [
      "Accuracy score is: 0.7380952380952381\n"
     ]
    }
   ],
   "source": [
    "model = RandomForestClassifier(n_estimators=10, max_depth=None, n_features=None, criterion=\"entropy\")\n",
    "model.fit(X_train, y_train)\n",
    "y_pred = model.predict(X_test)\n",
    "print(f\"Accuracy score is: {accuracy_score(y_test, y_pred)}\")"
   ]
  },
  {
   "cell_type": "code",
   "execution_count": 73,
   "metadata": {
    "ExecuteTime": {
     "end_time": "2021-03-07T15:14:15.714404Z",
     "start_time": "2021-03-07T15:13:45.960076Z"
    }
   },
   "outputs": [
    {
     "name": "stdout",
     "output_type": "stream",
     "text": [
      "Accuracy score is: 0.8809523809523809\n"
     ]
    }
   ],
   "source": [
    "model = RandomForestClassifier(n_estimators=100, max_depth=None, n_features=None, criterion=\"entropy\")\n",
    "model.fit(X_train, y_train)\n",
    "y_pred = model.predict(X_test)\n",
    "print(f\"Accuracy score is: {accuracy_score(y_test, y_pred)}\")"
   ]
  },
  {
   "cell_type": "markdown",
   "metadata": {},
   "source": [
    "Now it's your turn to explore the various parameters of sklearn [RandomForestClassifier](https://scikit-learn.org/stable/modules/generated/sklearn.ensemble.RandomForestClassifier.html) and their influence on model quality."
   ]
  },
  {
   "cell_type": "markdown",
   "metadata": {},
   "source": [
    "# Homework part 1. RandomForestClassifier"
   ]
  },
  {
   "cell_type": "markdown",
   "metadata": {},
   "source": [
    "_Note_: Consider **accuracy** as main metric of model performance on this dataset."
   ]
  },
  {
   "cell_type": "code",
   "execution_count": 5,
   "metadata": {
    "ExecuteTime": {
     "end_time": "2021-03-08T09:47:03.300925Z",
     "start_time": "2021-03-08T09:47:00.082988Z"
    }
   },
   "outputs": [],
   "source": [
    "import matplotlib.pyplot as plt\n",
    "import seaborn as sns\n",
    "from sklearn.ensemble import RandomForestClassifier\n",
    "from sklearn.model_selection import (GridSearchCV, LeaveOneOut,\n",
    "                                     RandomizedSearchCV, cross_val_score)\n",
    "from tqdm.auto import tqdm"
   ]
  },
  {
   "cell_type": "markdown",
   "metadata": {},
   "source": [
    "**Task 1 (0.5 points)** Split the dataset into train, test and validation parts (0.6 / 0.2 / 0.2). First two will be used for model hyperparameter tuning whereas the best model quality should be evaluated on validation part."
   ]
  },
  {
   "cell_type": "code",
   "execution_count": 333,
   "metadata": {
    "ExecuteTime": {
     "end_time": "2021-03-08T09:43:17.109489Z",
     "start_time": "2021-03-08T09:43:17.101375Z"
    }
   },
   "outputs": [],
   "source": [
    "X = df.drop(columns='target')\n",
    "y = df['target']\n",
    "\n",
    "X_train_test, X_valid, y_train_test, y_valid = train_test_split(X, y, test_size=0.2, random_state=42)\n",
    "X_train, X_test, y_train, y_test = train_test_split(X_train_test, y_train_test, test_size=0.25, random_state=42)"
   ]
  },
  {
   "cell_type": "markdown",
   "metadata": {},
   "source": [
    "**Task 2 (2 points)**. Apply '_greedy_' hyperparameter tuning of RandomForestClassifier model. '_Greedy_' way means the following general approach. At first we tune one model parameter whereas others are fixed with default values. Then we move on to tune the second parameter whereas others are fixed default values and first has the best values from previous step. After it we tune the third parameter with best fixed values for previous two and default values for the rest. Repeat until we go through all the parameters, then repeat this cycle if you are seeing a clear increase in the test metric. <br>\n",
    "\n",
    "Although this approach has a lot of disadvantages (you may think which ones), sometimes that is the only way to tune model typerparams due to big training time **if you understand how the model parameters are interrelated and the tuning order takes those dependencies into account.**<br>\n",
    "\n",
    "Here is one of the possible options for RandomForestClassifier:\n",
    "- Choose a decent value for number of trees using '_elbow_' rule. You may plot the dependence of RMSE on trees_num and pick up the number after which the error decreases not **as much as before**. \n",
    "- Pick up the best split criterion ('gini' / 'entropy') and then tune _max_depth_, _min_samples_split_, _min_samples_leaf_.\n",
    "- Increase number of trees with best found parameters so far.\n",
    "- Repeat this excersice starting from picking the best split criterion while other params are fixed with best values from previous steps **if you observe a significant test metric improvement**. Otherwise just stop and measure your best model result on validation set."
   ]
  },
  {
   "cell_type": "markdown",
   "metadata": {
    "ExecuteTime": {
     "end_time": "2021-03-02T18:23:32.530472Z",
     "start_time": "2021-03-02T18:23:32.527259Z"
    }
   },
   "source": [
    "*Первый подход к снаряду...*"
   ]
  },
  {
   "cell_type": "code",
   "execution_count": 320,
   "metadata": {
    "ExecuteTime": {
     "end_time": "2021-03-08T09:40:50.366001Z",
     "start_time": "2021-03-08T09:40:50.359976Z"
    },
    "code_folding": []
   },
   "outputs": [],
   "source": [
    "def get_best_param(params, x_param, iterator):\n",
    "    scores, iters = [], []\n",
    "\n",
    "    for i in tqdm(iterator):\n",
    "        model = RandomForestClassifier(random_state=42)\n",
    "        params[x_param] = i\n",
    "        model.set_params(**params)\n",
    "        model.fit(X_train, y_train)\n",
    "\n",
    "        scores.append(model.score(X_test, y_test))\n",
    "        iters.append(i)\n",
    "\n",
    "    max_pos = scores.index(max(scores))\n",
    "    best_score = max(scores).round(5)\n",
    "    best_iter = iters[max_pos]\n",
    "\n",
    "    plt.figure(figsize=(17,3))\n",
    "    sns.lineplot(x=iters, y=scores).set_title(f'Лучший скор - {best_score}, {x_param} - {best_iter}');\n",
    "    plt.axvline(best_iter, c='red');"
   ]
  },
  {
   "cell_type": "code",
   "execution_count": 334,
   "metadata": {
    "ExecuteTime": {
     "end_time": "2021-03-08T09:43:23.830979Z",
     "start_time": "2021-03-08T09:43:22.256952Z"
    },
    "scrolled": true
   },
   "outputs": [
    {
     "data": {
      "application/vnd.jupyter.widget-view+json": {
       "model_id": "50b41ac00ff8422b8b22dcf0fab2c05d",
       "version_major": 2,
       "version_minor": 0
      },
      "text/plain": [
       "HBox(children=(IntProgress(value=0, max=54), HTML(value='')))"
      ]
     },
     "metadata": {},
     "output_type": "display_data"
    },
    {
     "name": "stdout",
     "output_type": "stream",
     "text": [
      "\n"
     ]
    },
    {
     "data": {
      "image/png": "[encoded data removed]",
      "text/plain": [
       "<Figure size 1224x216 with 1 Axes>"
      ]
     },
     "metadata": {
      "needs_background": "light"
     },
     "output_type": "display_data"
    }
   ],
   "source": [
    "params = {}\n",
    "x_param = 'n_estimators'\n",
    "iterator = range(1,55,1)\n",
    "scores = get_best_param(params, x_param, iterator)"
   ]
  },
  {
   "cell_type": "code",
   "execution_count": 336,
   "metadata": {
    "ExecuteTime": {
     "end_time": "2021-03-08T09:43:32.461444Z",
     "start_time": "2021-03-08T09:43:32.388082Z"
    }
   },
   "outputs": [
    {
     "name": "stdout",
     "output_type": "stream",
     "text": [
      "entropy: 0.80952 | gini: 0.92857\n"
     ]
    }
   ],
   "source": [
    "params['n_estimators'] = 32\n",
    "\n",
    "model = RandomForestClassifier(**params, criterion='entropy', random_state=42)\n",
    "model.fit(X_train, y_train) \n",
    "entropy_score = model.score(X_test, y_test)\n",
    "\n",
    "model = RandomForestClassifier(**params, criterion='gini', random_state=42)\n",
    "model.fit(X_train, y_train) \n",
    "gini_score = model.score(X_test, y_test)\n",
    "\n",
    "print(f'entropy: {entropy_score.mean().round(5)} | gini: {gini_score.mean().round(5)}')"
   ]
  },
  {
   "cell_type": "code",
   "execution_count": 337,
   "metadata": {
    "ExecuteTime": {
     "end_time": "2021-03-08T09:43:39.369666Z",
     "start_time": "2021-03-08T09:43:38.349533Z"
    }
   },
   "outputs": [
    {
     "data": {
      "application/vnd.jupyter.widget-view+json": {
       "model_id": "a9dc9182c5d74438a55af321b9899dfb",
       "version_major": 2,
       "version_minor": 0
      },
      "text/plain": [
       "HBox(children=(IntProgress(value=0, max=29), HTML(value='')))"
      ]
     },
     "metadata": {},
     "output_type": "display_data"
    },
    {
     "name": "stdout",
     "output_type": "stream",
     "text": [
      "\n"
     ]
    },
    {
     "data": {
      "image/png": "[encoded data removed]",
      "text/plain": [
       "<Figure size 1224x216 with 1 Axes>"
      ]
     },
     "metadata": {
      "needs_background": "light"
     },
     "output_type": "display_data"
    }
   ],
   "source": [
    "params['criterion'] = 'gini'\n",
    "x_param = 'max_depth'\n",
    "iterator = range(1,30,1)\n",
    "get_best_param(params, x_param, iterator)"
   ]
  },
  {
   "cell_type": "code",
   "execution_count": 338,
   "metadata": {
    "ExecuteTime": {
     "end_time": "2021-03-08T09:43:45.143793Z",
     "start_time": "2021-03-08T09:43:44.445545Z"
    }
   },
   "outputs": [
    {
     "data": {
      "application/vnd.jupyter.widget-view+json": {
       "model_id": "4f88337da91b4a7598aa78475024a319",
       "version_major": 2,
       "version_minor": 0
      },
      "text/plain": [
       "HBox(children=(IntProgress(value=0, max=18), HTML(value='')))"
      ]
     },
     "metadata": {},
     "output_type": "display_data"
    },
    {
     "name": "stdout",
     "output_type": "stream",
     "text": [
      "\n"
     ]
    },
    {
     "data": {
      "image/png": "[encoded data removed]",
      "text/plain": [
       "<Figure size 1224x216 with 1 Axes>"
      ]
     },
     "metadata": {
      "needs_background": "light"
     },
     "output_type": "display_data"
    }
   ],
   "source": [
    "params['max_depth'] = 8\n",
    "x_param = 'min_samples_split'\n",
    "iterator = range(2,20,1)\n",
    "get_best_param(params, x_param, iterator)"
   ]
  },
  {
   "cell_type": "code",
   "execution_count": 339,
   "metadata": {
    "ExecuteTime": {
     "end_time": "2021-03-08T09:43:48.222619Z",
     "start_time": "2021-03-08T09:43:47.526045Z"
    }
   },
   "outputs": [
    {
     "data": {
      "application/vnd.jupyter.widget-view+json": {
       "model_id": "d53b8fe71bcb4433821931576f9d9d4d",
       "version_major": 2,
       "version_minor": 0
      },
      "text/plain": [
       "HBox(children=(IntProgress(value=0, max=19), HTML(value='')))"
      ]
     },
     "metadata": {},
     "output_type": "display_data"
    },
    {
     "name": "stdout",
     "output_type": "stream",
     "text": [
      "\n"
     ]
    },
    {
     "data": {
      "image/png": "[encoded data removed]",
      "text/plain": [
       "<Figure size 1224x216 with 1 Axes>"
      ]
     },
     "metadata": {
      "needs_background": "light"
     },
     "output_type": "display_data"
    }
   ],
   "source": [
    "params['min_samples_split'] = 2\n",
    "x_param = 'min_samples_leaf'\n",
    "iterator = range(1,20,1)\n",
    "get_best_param(params, x_param, iterator)"
   ]
  },
  {
   "cell_type": "markdown",
   "metadata": {},
   "source": [
    "И шило-мачало начинай сначала... с n_estimators..."
   ]
  },
  {
   "cell_type": "code",
   "execution_count": 340,
   "metadata": {
    "ExecuteTime": {
     "end_time": "2021-03-08T09:44:04.825784Z",
     "start_time": "2021-03-08T09:44:03.278438Z"
    }
   },
   "outputs": [
    {
     "data": {
      "application/vnd.jupyter.widget-view+json": {
       "model_id": "adcb1aa65bc74adf9fd400a8a55bc867",
       "version_major": 2,
       "version_minor": 0
      },
      "text/plain": [
       "HBox(children=(IntProgress(value=0, max=50), HTML(value='')))"
      ]
     },
     "metadata": {},
     "output_type": "display_data"
    },
    {
     "name": "stdout",
     "output_type": "stream",
     "text": [
      "\n"
     ]
    },
    {
     "data": {
      "image/png": "[encoded data removed]",
      "text/plain": [
       "<Figure size 1224x216 with 1 Axes>"
      ]
     },
     "metadata": {
      "needs_background": "light"
     },
     "output_type": "display_data"
    }
   ],
   "source": [
    "params = {\n",
    "    'criterion': 'gini',\n",
    "    'max_depth': 8,\n",
    "    'min_samples_split': 2,\n",
    "    'min_samples_leaf': 1\n",
    "}\n",
    "x_param = 'n_estimators'\n",
    "iterator = range(5,55,1)\n",
    "get_best_param(params, x_param, iterator)"
   ]
  },
  {
   "cell_type": "markdown",
   "metadata": {},
   "source": [
    "Как мы видим, на на одном кол-ве деревьев сразу получили наивысший скор. Дальнейшие переборы параметров не выявили улучшений.\n",
    "\n",
    "Проверим найденные параметры на валидационном датасете:"
   ]
  },
  {
   "cell_type": "code",
   "execution_count": 341,
   "metadata": {
    "ExecuteTime": {
     "end_time": "2021-03-08T09:45:01.375927Z",
     "start_time": "2021-03-08T09:45:01.341742Z"
    }
   },
   "outputs": [
    {
     "name": "stdout",
     "output_type": "stream",
     "text": [
      "Test: 0.80952\n"
     ]
    }
   ],
   "source": [
    "params = {\n",
    "    'n_estimators': 32,\n",
    "    'criterion': 'gini',\n",
    "    'max_depth': 8,\n",
    "    'min_samples_split': 2,\n",
    "    'min_samples_leaf': 1\n",
    "}\n",
    "model = RandomForestClassifier(**params, random_state=42)\n",
    "model.fit(X_train, y_train)\n",
    "score = model.score(X_valid, y_valid).round(5)\n",
    "\n",
    "print('Test:',score)"
   ]
  },
  {
   "cell_type": "markdown",
   "metadata": {},
   "source": [
    "### Grid Search and Random Search"
   ]
  },
  {
   "cell_type": "markdown",
   "metadata": {},
   "source": [
    "If you have enough computational power for model training in a reasonable amount of time more sophisticated approach of hyperparameter tuning would be either Grid Search or Random Search.<br>\n",
    "\n",
    "In a nutshell Grid Search allows you to pass through all different combinations of given model parameters and their values and choose the best combination. Whereas Random Search would randomly choose values for given model parameters and evaluate them on test data untill it reaches the specified number of iterations.<br>\n",
    "\n",
    "More information here [Gentle introduction to Grid and Random search](https://medium.com/@senapati.dipak97/grid-search-vs-random-search-d34c92946318) and here [Detailed Explanation with code examples](https://machinelearningmastery.com/hyperparameter-optimization-with-random-search-and-grid-search/)."
   ]
  },
  {
   "attachments": {
    "grid_random_search.png": {
     "image/png": "[encoded data removed]"
    }
   },
   "cell_type": "markdown",
   "metadata": {},
   "source": [
    "![grid_random_search.png](attachment:grid_random_search.png)"
   ]
  },
  {
   "cell_type": "markdown",
   "metadata": {},
   "source": [
    "**Task 3 (1 point)**. Compare your previous results with [GridSearch](https://scikit-learn.org/stable/modules/generated/sklearn.model_selection.GridSearchCV.html) hyperparameter tuning. You may tune best hyperparameters for forest with several trees and then increase it while measure the quality on validation dataset."
   ]
  },
  {
   "cell_type": "code",
   "execution_count": 135,
   "metadata": {
    "ExecuteTime": {
     "end_time": "2021-03-07T16:18:58.527723Z",
     "start_time": "2021-03-07T16:16:12.397479Z"
    }
   },
   "outputs": [
    {
     "name": "stdout",
     "output_type": "stream",
     "text": [
      "Fitting 5 folds for each of 17820 candidates, totalling 89100 fits\n"
     ]
    },
    {
     "name": "stderr",
     "output_type": "stream",
     "text": [
      "[Parallel(n_jobs=30)]: Using backend LokyBackend with 30 concurrent workers.\n",
      "[Parallel(n_jobs=30)]: Done 204 tasks      | elapsed:    1.0s\n",
      "[Parallel(n_jobs=30)]: Done 2904 tasks      | elapsed:    6.5s\n",
      "[Parallel(n_jobs=30)]: Done 7404 tasks      | elapsed:   15.5s\n",
      "[Parallel(n_jobs=30)]: Done 13704 tasks      | elapsed:   27.8s\n",
      "[Parallel(n_jobs=30)]: Done 21804 tasks      | elapsed:   44.1s\n",
      "[Parallel(n_jobs=30)]: Done 31704 tasks      | elapsed:  1.1min\n",
      "[Parallel(n_jobs=30)]: Done 43404 tasks      | elapsed:  1.4min\n",
      "[Parallel(n_jobs=30)]: Done 56904 tasks      | elapsed:  1.8min\n",
      "[Parallel(n_jobs=30)]: Done 72204 tasks      | elapsed:  2.3min\n",
      "[Parallel(n_jobs=30)]: Done 89100 out of 89100 | elapsed:  2.8min finished\n"
     ]
    },
    {
     "name": "stdout",
     "output_type": "stream",
     "text": [
      "0.8674698795180723\n",
      "{'criterion': 'entropy', 'max_depth': 6, 'min_samples_leaf': 1, 'min_samples_split': 4, 'n_estimators': 50}\n"
     ]
    },
    {
     "name": "stderr",
     "output_type": "stream",
     "text": [
      "/opt/python3/lib/python3.6/site-packages/sklearn/model_selection/_search.py:841: DeprecationWarning: The default of the `iid` parameter will change from True to False in version 0.22 and will be removed in 0.24. This will change numeric results when test-set sizes are unequal.\n",
      "  DeprecationWarning)\n"
     ]
    }
   ],
   "source": [
    "params = {\n",
    "    'n_estimators': range(5,55+1,5),\n",
    "    'criterion': ['entropy','gini'],\n",
    "    'max_depth': range(4,20+1,2),\n",
    "    'min_samples_split': range(2,20,2),\n",
    "    'min_samples_leaf': range(1,20,2)\n",
    "}\n",
    "\n",
    "model = RandomForestClassifier(random_state=42)\n",
    "clf = GridSearchCV(model, params, cv=5, scoring='accuracy', n_jobs=30, verbose=1)\n",
    "clf.fit(X_train_test, y_train_test)\n",
    "\n",
    "print(clf.best_score_)\n",
    "print(clf.best_params_)"
   ]
  },
  {
   "cell_type": "code",
   "execution_count": 136,
   "metadata": {
    "ExecuteTime": {
     "end_time": "2021-03-07T16:18:58.666785Z",
     "start_time": "2021-03-07T16:18:58.659323Z"
    }
   },
   "outputs": [
    {
     "name": "stdout",
     "output_type": "stream",
     "text": [
      "Valid: 0.9047619047619048\n"
     ]
    }
   ],
   "source": [
    "print('Valid:',clf.score(X_valid, y_valid))"
   ]
  },
  {
   "cell_type": "markdown",
   "metadata": {},
   "source": [
    "**Task 4 (1 point)**. And finally tune forest hyperparameters with [RandomSearch](https://scikit-learn.org/stable/modules/generated/sklearn.model_selection.RandomizedSearchCV.html). Compare results to previous attempts."
   ]
  },
  {
   "cell_type": "code",
   "execution_count": 133,
   "metadata": {
    "ExecuteTime": {
     "end_time": "2021-03-07T16:14:31.576781Z",
     "start_time": "2021-03-07T16:12:21.526577Z"
    },
    "scrolled": false
   },
   "outputs": [
    {
     "name": "stdout",
     "output_type": "stream",
     "text": [
      "Fitting 5 folds for each of 15000 candidates, totalling 75000 fits\n"
     ]
    },
    {
     "name": "stderr",
     "output_type": "stream",
     "text": [
      "[Parallel(n_jobs=30)]: Using backend LokyBackend with 30 concurrent workers.\n",
      "[Parallel(n_jobs=30)]: Done 140 tasks      | elapsed:    4.6s\n",
      "[Parallel(n_jobs=30)]: Done 909 tasks      | elapsed:    6.1s\n",
      "[Parallel(n_jobs=30)]: Done 2309 tasks      | elapsed:    8.4s\n",
      "[Parallel(n_jobs=30)]: Done 4109 tasks      | elapsed:   11.6s\n",
      "[Parallel(n_jobs=30)]: Done 6309 tasks      | elapsed:   15.2s\n",
      "[Parallel(n_jobs=30)]: Done 8909 tasks      | elapsed:   19.7s\n",
      "[Parallel(n_jobs=30)]: Done 11909 tasks      | elapsed:   24.6s\n",
      "[Parallel(n_jobs=30)]: Done 15309 tasks      | elapsed:   30.2s\n",
      "[Parallel(n_jobs=30)]: Done 19109 tasks      | elapsed:   36.3s\n",
      "[Parallel(n_jobs=30)]: Done 23309 tasks      | elapsed:   43.3s\n",
      "[Parallel(n_jobs=30)]: Done 27909 tasks      | elapsed:   50.9s\n",
      "[Parallel(n_jobs=30)]: Done 32909 tasks      | elapsed:   59.3s\n",
      "[Parallel(n_jobs=30)]: Done 38309 tasks      | elapsed:  1.1min\n",
      "[Parallel(n_jobs=30)]: Done 44109 tasks      | elapsed:  1.3min\n",
      "[Parallel(n_jobs=30)]: Done 50309 tasks      | elapsed:  1.5min\n",
      "[Parallel(n_jobs=30)]: Done 56909 tasks      | elapsed:  1.7min\n",
      "[Parallel(n_jobs=30)]: Done 63909 tasks      | elapsed:  1.8min\n",
      "[Parallel(n_jobs=30)]: Done 71309 tasks      | elapsed:  2.1min\n",
      "[Parallel(n_jobs=30)]: Done 74941 out of 75000 | elapsed:  2.2min remaining:    0.1s\n",
      "[Parallel(n_jobs=30)]: Done 75000 out of 75000 | elapsed:  2.2min finished\n"
     ]
    },
    {
     "name": "stdout",
     "output_type": "stream",
     "text": [
      "0.8734939759036144\n",
      "{'n_estimators': 24, 'min_samples_split': 3, 'min_samples_leaf': 3, 'max_depth': 12, 'criterion': 'entropy'}\n"
     ]
    },
    {
     "name": "stderr",
     "output_type": "stream",
     "text": [
      "/opt/python3/lib/python3.6/site-packages/sklearn/model_selection/_search.py:841: DeprecationWarning: The default of the `iid` parameter will change from True to False in version 0.22 and will be removed in 0.24. This will change numeric results when test-set sizes are unequal.\n",
      "  DeprecationWarning)\n"
     ]
    }
   ],
   "source": [
    "params = {\n",
    "    'n_estimators': range(5,55+1,1),\n",
    "    'criterion': ['entropy','gini'],\n",
    "    'max_depth': range(1,20+1,1),\n",
    "    'min_samples_split': range(2,20,1),\n",
    "    'min_samples_leaf': range(1,20,1)\n",
    "}\n",
    "\n",
    "model = RandomForestClassifier(random_state=42)\n",
    "clf = RandomizedSearchCV(model, params, cv=5, scoring='accuracy', n_jobs=30, random_state=42, n_iter=15_000, verbose=1)\n",
    "clf.fit(X_train_test, y_train_test)\n",
    "\n",
    "print(clf.best_score_)\n",
    "print(clf.best_params_)"
   ]
  },
  {
   "cell_type": "code",
   "execution_count": 134,
   "metadata": {
    "ExecuteTime": {
     "end_time": "2021-03-07T16:16:04.491306Z",
     "start_time": "2021-03-07T16:16:04.484525Z"
    }
   },
   "outputs": [
    {
     "name": "stdout",
     "output_type": "stream",
     "text": [
      "Valid: 0.8809523809523809\n"
     ]
    }
   ],
   "source": [
    "print('Valid:',clf.score(X_valid, y_valid))"
   ]
  },
  {
   "cell_type": "markdown",
   "metadata": {},
   "source": [
    "**Task 5 (0.5 points)**. Tell us about your experience in hyperparameter tuning with the approaches above. What do you think would be the best option for this task and why?"
   ]
  },
  {
   "cell_type": "markdown",
   "metadata": {},
   "source": [
    "Итак...\n",
    "1. Метод greedy показал самый лучший скор на тесте, но самый худший на валидационной выборке. Очевидно, что мы тут сильно переобучились. Я, в данном конкретном случае, больше это связываю с размером датасета, чем с самим методом. На большей выборке разырв, возможно, будет не таким большим.\n",
    "2. ГридСёч лучше себя показал на валидационной выборке, но хуже на CV. РандомСёч наоборот: лучше на CV, хуже на валидации. Но в целом разрыв по их результатам не большой.\n",
    "3. РандомСёч - это рулетка: в зависимости от параметров и даже сида, можкт превосходить ГридСёч в результатах.\n",
    "\n",
    "В целом выборка слишком маленькая, чтобы делать какие-то стат. значимые выводы. Но скорее всего в жизни придется пользоваться именно РандомСёчем, поскольку он позволяет задавать кол-во перебираемых параметров, что позволяет контролировать время выполнения при разнообразии перебираемых параметров."
   ]
  },
  {
   "cell_type": "markdown",
   "metadata": {},
   "source": [
    "### Desicion tree explained"
   ]
  },
  {
   "cell_type": "markdown",
   "metadata": {},
   "source": [
    "Remember the [Titanic](https://www.kaggle.com/c/titanic) competition from last week? Wouldn't be a good idea to visualize one of possible desicion-making processes of _survived_ / _dead_ labeling?"
   ]
  },
  {
   "cell_type": "markdown",
   "metadata": {},
   "source": [
    "**Task 6 (1 point)**. Load titanic dataset, split it into train/test parts, apply simple hyperparameter tuning of [DesicionTreeClassifier](https://scikit-learn.org/stable/modules/generated/sklearn.tree.DecisionTreeClassifier.html) (use one of the approaches above) in order to have **test accuracy more than 0.65**. <br>\n",
    "\n",
    "Draw the best tree decision making process. You may use [sklearn.tree.prot_tree](https://scikit-learn.org/stable/modules/generated/sklearn.tree.plot_tree.html).<br>"
   ]
  },
  {
   "cell_type": "code",
   "execution_count": 2,
   "metadata": {
    "ExecuteTime": {
     "end_time": "2021-03-08T09:46:53.781529Z",
     "start_time": "2021-03-08T09:46:53.411707Z"
    }
   },
   "outputs": [
    {
     "data": {
      "text/html": [
       "<div>\n",
       "<style scoped>\n",
       "    .dataframe tbody tr th:only-of-type {\n",
       "        vertical-align: middle;\n",
       "    }\n",
       "\n",
       "    .dataframe tbody tr th {\n",
       "        vertical-align: top;\n",
       "    }\n",
       "\n",
       "    .dataframe thead th {\n",
       "        text-align: right;\n",
       "    }\n",
       "</style>\n",
       "<table border=\"1\" class=\"dataframe\">\n",
       "  <thead>\n",
       "    <tr style=\"text-align: right;\">\n",
       "      <th></th>\n",
       "      <th>Pclass</th>\n",
       "      <th>Sex</th>\n",
       "      <th>Age</th>\n",
       "      <th>SibSp</th>\n",
       "      <th>Parch</th>\n",
       "      <th>Fare</th>\n",
       "      <th>Embarked_C</th>\n",
       "      <th>Embarked_Q</th>\n",
       "      <th>Embarked_S</th>\n",
       "    </tr>\n",
       "    <tr>\n",
       "      <th>PassengerId</th>\n",
       "      <th></th>\n",
       "      <th></th>\n",
       "      <th></th>\n",
       "      <th></th>\n",
       "      <th></th>\n",
       "      <th></th>\n",
       "      <th></th>\n",
       "      <th></th>\n",
       "      <th></th>\n",
       "    </tr>\n",
       "  </thead>\n",
       "  <tbody>\n",
       "    <tr>\n",
       "      <th>446</th>\n",
       "      <td>1</td>\n",
       "      <td>0</td>\n",
       "      <td>4.0</td>\n",
       "      <td>0</td>\n",
       "      <td>2</td>\n",
       "      <td>81.8583</td>\n",
       "      <td>0</td>\n",
       "      <td>0</td>\n",
       "      <td>1</td>\n",
       "    </tr>\n",
       "    <tr>\n",
       "      <th>651</th>\n",
       "      <td>3</td>\n",
       "      <td>0</td>\n",
       "      <td>28.0</td>\n",
       "      <td>0</td>\n",
       "      <td>0</td>\n",
       "      <td>7.8958</td>\n",
       "      <td>0</td>\n",
       "      <td>0</td>\n",
       "      <td>1</td>\n",
       "    </tr>\n",
       "    <tr>\n",
       "      <th>173</th>\n",
       "      <td>3</td>\n",
       "      <td>1</td>\n",
       "      <td>1.0</td>\n",
       "      <td>1</td>\n",
       "      <td>1</td>\n",
       "      <td>11.1333</td>\n",
       "      <td>0</td>\n",
       "      <td>0</td>\n",
       "      <td>1</td>\n",
       "    </tr>\n",
       "    <tr>\n",
       "      <th>451</th>\n",
       "      <td>2</td>\n",
       "      <td>0</td>\n",
       "      <td>36.0</td>\n",
       "      <td>1</td>\n",
       "      <td>2</td>\n",
       "      <td>27.7500</td>\n",
       "      <td>0</td>\n",
       "      <td>0</td>\n",
       "      <td>1</td>\n",
       "    </tr>\n",
       "    <tr>\n",
       "      <th>315</th>\n",
       "      <td>2</td>\n",
       "      <td>0</td>\n",
       "      <td>43.0</td>\n",
       "      <td>1</td>\n",
       "      <td>1</td>\n",
       "      <td>26.2500</td>\n",
       "      <td>0</td>\n",
       "      <td>0</td>\n",
       "      <td>1</td>\n",
       "    </tr>\n",
       "  </tbody>\n",
       "</table>\n",
       "</div>"
      ],
      "text/plain": [
       "             Pclass  Sex   Age  SibSp  Parch     Fare  Embarked_C  Embarked_Q  \\\n",
       "PassengerId                                                                     \n",
       "446               1    0   4.0      0      2  81.8583           0           0   \n",
       "651               3    0  28.0      0      0   7.8958           0           0   \n",
       "173               3    1   1.0      1      1  11.1333           0           0   \n",
       "451               2    0  36.0      1      2  27.7500           0           0   \n",
       "315               2    0  43.0      1      1  26.2500           0           0   \n",
       "\n",
       "             Embarked_S  \n",
       "PassengerId              \n",
       "446                   1  \n",
       "651                   1  \n",
       "173                   1  \n",
       "451                   1  \n",
       "315                   1  "
      ]
     },
     "execution_count": 2,
     "metadata": {},
     "output_type": "execute_result"
    }
   ],
   "source": [
    "data = pd.read_csv('data/train.csv').set_index('PassengerId')\n",
    "\n",
    "y = data['Survived']\n",
    "X = data[['Pclass','Sex','Age','SibSp','Parch','Fare','Embarked']].copy()\n",
    "X['Sex'] = X['Sex'].map({'male':0,'female':1})\n",
    "X = pd.get_dummies(X, columns = ['Embarked'])\n",
    "X = X.fillna(X.median())\n",
    "\n",
    "X_train, X_test, y_train, y_test = train_test_split(X, y, test_size=0.3, random_state=42)\n",
    "\n",
    "X_train.head()"
   ]
  },
  {
   "cell_type": "code",
   "execution_count": 6,
   "metadata": {
    "ExecuteTime": {
     "end_time": "2021-03-08T09:47:31.234173Z",
     "start_time": "2021-03-08T09:47:08.187437Z"
    }
   },
   "outputs": [
    {
     "name": "stdout",
     "output_type": "stream",
     "text": [
      "Fitting 10 folds for each of 3000 candidates, totalling 30000 fits\n",
      "{'splitter': 'best', 'min_samples_split': 8, 'min_samples_leaf': 5, 'max_depth': 7, 'criterion': 'entropy'}\n",
      "CV: 0.8314644137224783\n",
      "Test: 0.8022388059701493\n"
     ]
    }
   ],
   "source": [
    "from sklearn.tree import DecisionTreeClassifier\n",
    "\n",
    "params = {\n",
    "    'criterion': ['entropy','gini'],\n",
    "    'splitter': ['best','random'],    \n",
    "    'max_depth': range(4,20+1,1),\n",
    "    'min_samples_split': range(2,20,1),\n",
    "    'min_samples_leaf': range(1,20,1)\n",
    "}\n",
    "\n",
    "model = DecisionTreeClassifier(random_state=42)\n",
    "clf = RandomizedSearchCV(model, params, cv=10, scoring='accuracy', n_jobs=10, random_state=42, n_iter=3_000, verbose=1)\n",
    "clf.fit(X_train, y_train)\n",
    "\n",
    "print(clf.best_params_)\n",
    "print('CV:', clf.best_score_)\n",
    "print('Test:', accuracy_score(y_test,clf.predict(X_test)))"
   ]
  },
  {
   "cell_type": "code",
   "execution_count": 7,
   "metadata": {
    "ExecuteTime": {
     "end_time": "2021-03-08T09:47:34.532716Z",
     "start_time": "2021-03-08T09:47:31.268173Z"
    }
   },
   "outputs": [
    {
     "data": {
      "image/png": "[encoded data removed]",
      "text/plain": [
       "<Figure size 1296x504 with 1 Axes>"
      ]
     },
     "metadata": {
      "needs_background": "light"
     },
     "output_type": "display_data"
    }
   ],
   "source": [
    "from sklearn import tree\n",
    "plt.figure(figsize=(18,7))\n",
    "tree.plot_tree(\n",
    "    clf.best_estimator_, \n",
    "    feature_names=X_train.columns, \n",
    "    filled=True, \n",
    "    class_names=['Не выжил','Выжил']);"
   ]
  },
  {
   "cell_type": "markdown",
   "metadata": {},
   "source": [
    "Круто, но нифига не понятно... попробуем показать его макушку:"
   ]
  },
  {
   "cell_type": "code",
   "execution_count": 8,
   "metadata": {
    "ExecuteTime": {
     "end_time": "2021-03-08T09:47:57.298438Z",
     "start_time": "2021-03-08T09:47:56.458439Z"
    }
   },
   "outputs": [
    {
     "data": {
      "image/png": "[encoded data removed]",
      "text/plain": [
       "<Figure size 1296x576 with 1 Axes>"
      ]
     },
     "metadata": {
      "needs_background": "light"
     },
     "output_type": "display_data"
    }
   ],
   "source": [
    "plt.figure(figsize=(18,8))\n",
    "tree.plot_tree(\n",
    "    clf.best_estimator_, \n",
    "    max_depth=2, \n",
    "    feature_names=X_train.columns, \n",
    "    filled=True, \n",
    "    class_names=['Не выжил','Выжил']);"
   ]
  },
  {
   "cell_type": "markdown",
   "metadata": {},
   "source": [
    "Is it easy to interpret its results? Are you able to explain to a random person why would he survive / die on the titanic?"
   ]
  },
  {
   "cell_type": "markdown",
   "metadata": {},
   "source": [
    "Ну, вроде все понятно :)"
   ]
  },
  {
   "cell_type": "markdown",
   "metadata": {},
   "source": [
    "# Homework part 2. RandomForestRegressor"
   ]
  },
  {
   "cell_type": "markdown",
   "metadata": {},
   "source": [
    "**Task 7 (2 points)**. Write your own *DecisionTreeRegressor* class with _MSE_ split criterion and settable parameter *max_depth*. Demonstrate its consistency on the proposed artificial data (or some other) by comparing MSE of train predictions with [sklearn.tree.DecisionTreeRegressor](https://scikit-learn.org/stable/modules/generated/sklearn.tree.DecisionTreeRegressor.html). <br>\n",
    "\n",
    "Provide examples for different _max_depth_ parameter.\n",
    "\n",
    "Of course you may re-use code for *DecisionTreeClassifier*. You need to figure out what needs to be changed in it for Classification -> Regression transformation.<br>\n",
    "\n",
    "**! You are allowed to use only NumPy library** in this assigment."
   ]
  },
  {
   "cell_type": "code",
   "execution_count": 261,
   "metadata": {
    "ExecuteTime": {
     "end_time": "2021-03-07T22:45:09.840887Z",
     "start_time": "2021-03-07T22:45:09.835268Z"
    }
   },
   "outputs": [],
   "source": [
    "import numpy as np\n",
    "\n",
    "def f(X):\n",
    "    return X[:, 0]**3 + np.log(np.exp(X[:, 1]) + np.exp(X[:, 2])) + np.sqrt(abs(X[:, 3])) * X[:, 4]\n",
    "\n",
    "n_samples = 1000\n",
    "\n",
    "stdv = 1. / np.sqrt(5)\n",
    "\n",
    "X = np.random.uniform(-stdv, stdv, size = (n_samples, 5))\n",
    "y = f(X)\n",
    "\n",
    "X_train, X_test, y_train, y_test = train_test_split(X, y, test_size=0.25, random_state=42)"
   ]
  },
  {
   "cell_type": "code",
   "execution_count": 257,
   "metadata": {
    "ExecuteTime": {
     "end_time": "2021-03-07T22:44:08.525165Z",
     "start_time": "2021-03-07T22:44:08.505072Z"
    },
    "code_folding": [
     0,
     12,
     23,
     36,
     53
    ]
   },
   "outputs": [],
   "source": [
    "def var(x):\n",
    "    \"\"\" Calculate Gini Index for a node\n",
    "    Args:\n",
    "        x: Numpy-array of targets in a node\n",
    "    Returns:\n",
    "        float: Gini index\n",
    "    \"\"\"    \n",
    "    if len(x) == 0:\n",
    "        return 0.0\n",
    "    \n",
    "    return ((x - np.mean(x))**2).mean()\n",
    "\n",
    "def var_gain(parent_node, splits):\n",
    "    \"\"\" Calculate Information Gain for a particular split\n",
    "    Args:\n",
    "        parent_node: Numpy-array of targets in a parent node\n",
    "        splits: List of two numpy-arrays. Each numpy-array is targets in a child node\n",
    "    Returns:\n",
    "        float: Information Gain\n",
    "    \"\"\"     \n",
    "    splits_entropy = np.sum([var(split)*(len(split)/len(parent_node)) for split in splits])\n",
    "    return var(parent_node) - splits_entropy\n",
    "\n",
    "def split(X, y, value):\n",
    "    \"\"\" Split y-values in order to calculate gain later\n",
    "    Args:\n",
    "        X: 1-dimensional numpy-array of data predictor with shape (N,)\n",
    "        y: 1-dimensional numpy-array of targets with shape (N,)\n",
    "        value (float): the value by which the X should be splitted\n",
    "    Returns:\n",
    "        Two 1-dimensional numpy-arrays with targets related to splits\n",
    "    \"\"\"      \n",
    "    left_mask = X < value\n",
    "    right_mask = X >= value\n",
    "    return y[left_mask], y[right_mask]\n",
    "\n",
    "def split_dataset(X, y, column, value):\n",
    "    \"\"\" Split dataset by a particular column and value\n",
    "    Args:\n",
    "        X: 2-dimensional numpy-array (N, num_feats). N-number of samples\n",
    "        y: 1-dimensional numpy-array of targets with shape (N,)  \n",
    "        column (int): the column by which the X should be splitted\n",
    "        value (float): the value by which the column should be splitted\n",
    "    Returns:\n",
    "        Two 2-dimensional numpy-arrays with data and two 1-dimensional numpy-arrays with targets related to splits\n",
    "        left_X, right_X, left_y, right_y\n",
    "    \"\"\"       \n",
    "    left_mask = X[:, column] < value\n",
    "    right_mask = X[:, column] >= value\n",
    "    left_y, right_y = y[left_mask], y[right_mask]\n",
    "    left_X, right_X = X[left_mask], X[right_mask]\n",
    "    return left_X, right_X, left_y, right_y\n",
    "\n",
    "class Tree(object):\n",
    "    \"\"\"A decision tree classifier.\n",
    "\n",
    "    Args:\n",
    "        criterion : {\"gini_gain\", \"information_gain\"}\n",
    "    \"\"\"\n",
    "    def __init__(self, criterion=None):\n",
    "        np.random.seed(42)\n",
    "        random.seed(42)\n",
    "        np.random.RandomState(42)\n",
    "        \n",
    "        self.impurity = None\n",
    "        self.threshold = None\n",
    "        self.column_index = None\n",
    "        self.outcome_probs = None\n",
    "        self.criterion = criterion\n",
    "        self.left_child = None\n",
    "        self.right_child = None\n",
    "\n",
    "    @property\n",
    "    def is_terminal(self):\n",
    "        \"\"\" Define is it terminal node\n",
    "        \"\"\"          \n",
    "        return not bool(self.left_child and self.right_child)\n",
    "\n",
    "    def _find_splits(self, X):\n",
    "        \"\"\"Find all possible split values.\"\"\"\n",
    "        split_values = set()\n",
    "\n",
    "        # Get unique values in a sorted order\n",
    "        x_unique = list(np.unique(X))\n",
    "        for i in range(1, len(x_unique)):\n",
    "            # Find a point between two values\n",
    "            average = (x_unique[i - 1] + x_unique[i]) / 2.0\n",
    "            split_values.add(average)\n",
    "\n",
    "        return list(split_values)\n",
    "\n",
    "    def _find_best_split(self, X, y, n_features):\n",
    "        \"\"\"Find best feature and value for a split. Greedy algorithm.\"\"\"\n",
    "\n",
    "        # Sample random subset of features\n",
    "        subset = random.sample(list(range(0, X.shape[1])), n_features)\n",
    "        max_gain, max_col, max_val = None, None, None\n",
    "\n",
    "        for column in subset:\n",
    "            split_values = self._find_splits(X[:, column])\n",
    "            for value in split_values:\n",
    "                splits = split(X[:, column], y, value)\n",
    "                gain = self.criterion(y, splits)\n",
    "\n",
    "                if (max_gain is None) or (gain > max_gain):\n",
    "                    max_col, max_val, max_gain = column, value, gain\n",
    "        return max_col, max_val, max_gain\n",
    "\n",
    "    def fit(self, X, y, n_features=None, max_depth=None):\n",
    "        \"\"\"Fit model.\n",
    "\n",
    "        Args:\n",
    "            X (numpy-array): The training input samples. 2-dimensional numpy array.\n",
    "            y (numpy-array): The target values. 1-dimensional numpy array.\n",
    "            n_features (int): The number of features when fit is performed (default: all features)\n",
    "            max_depth (int): The maximum depth of the tree. If None, then nodes are expanded until\n",
    "                             all leaves are pure.\n",
    "        \"\"\"        \n",
    "        try:\n",
    "            # Exit from recursion using assert syntax\n",
    "            if max_depth is not None:\n",
    "                assert max_depth > 0\n",
    "                max_depth -= 1\n",
    "\n",
    "            if n_features is None:\n",
    "                n_features = X.shape[1]\n",
    "\n",
    "            column, value, gain = self._find_best_split(X, y, n_features)\n",
    "            assert gain is not None\n",
    "\n",
    "            self.column_index = column\n",
    "            self.threshold = value\n",
    "            self.impurity = gain\n",
    "\n",
    "            # Split dataset\n",
    "            left_X, right_X, left_target, right_target = split_dataset(X, y, column, value)\n",
    "\n",
    "            # Grow left and right child\n",
    "            self.left_child = Tree(self.criterion)\n",
    "            self.left_child.fit(\n",
    "                left_X, left_target, n_features, max_depth\n",
    "            )\n",
    "\n",
    "            self.right_child = Tree(self.criterion)\n",
    "            self.right_child.fit(\n",
    "                right_X, right_target, n_features, max_depth\n",
    "            )\n",
    "        except AssertionError:\n",
    "            self.outcome_probs = np.mean(y)\n",
    "\n",
    "    def predict_row(self, row):\n",
    "        \"\"\"Predict single row.\"\"\"\n",
    "        if not self.is_terminal:\n",
    "            if row[self.column_index] < self.threshold:\n",
    "                return self.left_child.predict_row(row)\n",
    "            else:\n",
    "                return self.right_child.predict_row(row)\n",
    "        return self.outcome_probs\n",
    "\n",
    "    def predict(self, X):\n",
    "        \"\"\"Make predictions.\n",
    "\n",
    "        Args:\n",
    "            X (numpy-array): The test input samples. 2-dimensional numpy array.\n",
    "        \"\"\"  \n",
    "        result = np.zeros(X.shape[0])\n",
    "        for i in range(X.shape[0]):\n",
    "            result[i] = self.predict_row(X[i, :])\n",
    "        return result"
   ]
  },
  {
   "cell_type": "code",
   "execution_count": 263,
   "metadata": {
    "ExecuteTime": {
     "end_time": "2021-03-07T22:45:31.488053Z",
     "start_time": "2021-03-07T22:45:14.500106Z"
    },
    "scrolled": true
   },
   "outputs": [
    {
     "name": "stdout",
     "output_type": "stream",
     "text": [
      "Depth = 1: train - 0.03514319366443396, test - 0.038676081980890786\n",
      "Depth = 2: train - 0.02230671091004034, test - 0.02654829735997474\n",
      "Depth = 3: train - 0.013039579696925619, test - 0.017099411747460286\n",
      "Depth = 4: train - 0.008931382585985127, test - 0.012964610498241363\n",
      "Depth = 5: train - 0.005641542349629744, test - 0.009736610892786221\n",
      "Depth = 6: train - 0.003233554648524293, test - 0.008901328735976616\n",
      "Depth = 7: train - 0.0018226933104039547, test - 0.008306134545326416\n",
      "Depth = 8: train - 0.0008984101747163035, test - 0.008002817541714717\n",
      "Depth = 9: train - 0.0004012827977653386, test - 0.007545057657506458\n",
      "Depth = 10: train - 0.0001584200241331897, test - 0.007580412890294483\n"
     ]
    }
   ],
   "source": [
    "for d in [1,2,3,4,5,6,7,8,9,10]:\n",
    "    model = Tree(criterion=var_gain)\n",
    "    model.fit(X_train, y_train, max_depth=d)\n",
    "    y_train_pred = model.predict(X_train)\n",
    "    y_test_pred = model.predict(X_test)\n",
    "    print(f\"Depth = {d}: train - {mean_squared_error(y_train, y_train_pred)}, test - {mean_squared_error(y_test, y_test_pred)}\")"
   ]
  },
  {
   "cell_type": "code",
   "execution_count": 262,
   "metadata": {
    "ExecuteTime": {
     "end_time": "2021-03-07T22:45:12.302614Z",
     "start_time": "2021-03-07T22:45:12.276068Z"
    }
   },
   "outputs": [
    {
     "name": "stdout",
     "output_type": "stream",
     "text": [
      "Depth = 1: train - 0.03514319366443396, test - 0.0386760819808908\n",
      "Depth = 2: train - 0.022306710910040342, test - 0.02654829735997474\n",
      "Depth = 3: train - 0.013039579696925619, test - 0.017099411747460286\n",
      "Depth = 4: train - 0.008931382585985127, test - 0.012964610498241368\n",
      "Depth = 5: train - 0.005641542349629744, test - 0.009736610892786221\n",
      "Depth = 6: train - 0.0032335546485242925, test - 0.008949963704279376\n",
      "Depth = 7: train - 0.0018226933104039547, test - 0.008429252358040897\n",
      "Depth = 8: train - 0.0008984101747163035, test - 0.0075967807665415065\n",
      "Depth = 9: train - 0.0004012827977653386, test - 0.007605541606837796\n",
      "Depth = 10: train - 0.00015842032892674176, test - 0.007688608221593025\n"
     ]
    }
   ],
   "source": [
    "for d in [1,2,3,4,5,6,7,8,9,10]:\n",
    "    model = DecisionTreeRegressor(random_state=42, max_depth=d)\n",
    "    model.fit(X_train, y_train)\n",
    "    y_train_pred = model.predict(X_train)\n",
    "    y_test_pred = model.predict(X_test)\n",
    "    print(f\"Depth = {d}: train - {mean_squared_error(y_train, y_train_pred)}, test - {mean_squared_error(y_test, y_test_pred)}\")"
   ]
  },
  {
   "cell_type": "markdown",
   "metadata": {},
   "source": [
    "Как мы видим, имеются небольшие расхождения в скоре. Связываю это с тем, что реализации все таки не идентичные. В скалерне имеется гораздо больше дефолтных параметров."
   ]
  },
  {
   "cell_type": "markdown",
   "metadata": {},
   "source": [
    "**Task 8 (2 points)**. Write your own _RandomForestRegressor_ class with MSE split criterion and settable parameter _max_depth_.  Demonstrate its consistency on the proposed artificial data (or some other) by comparing MSE of train predictions with [sklearn.ensemble.RandomForestRegressor](https://scikit-learn.org/stable/modules/generated/sklearn.ensemble.RandomForestRegressor.html).<br>\n",
    "\n",
    "Provide examples for different max_depth parameter.<br>\n",
    "\n",
    "**! You are allowed to use only NumPy library** in this assigment."
   ]
  },
  {
   "cell_type": "code",
   "execution_count": 277,
   "metadata": {
    "ExecuteTime": {
     "end_time": "2021-03-08T07:36:46.650330Z",
     "start_time": "2021-03-08T07:36:46.626119Z"
    },
    "code_folding": [
     0,
     7
    ]
   },
   "outputs": [],
   "source": [
    "class RandomForestReg(object):\n",
    "    \"\"\"\n",
    "    A random forest classifier.\n",
    "    A random forest is a meta estimator that fits a number of decision tree\n",
    "    classifiers on various sub-samples of the dataset and uses averaging to\n",
    "    improve the predictive accuracy and control overfitting.\n",
    "    \n",
    "    Args:\n",
    "        n_estimators : int, default=10\n",
    "            The number of trees in the forest.\n",
    "\n",
    "        max_depth : int, default=None\n",
    "            The maximum depth of the tree. If None, then nodes are expanded until\n",
    "            all leaves are pure.        \n",
    "\n",
    "        n_features : int, default=None\n",
    "            The number of features to consider when looking for the best split.\n",
    "            If None, then `n_features=sqrt(n_features)`.\n",
    "\n",
    "        criterion : {\"gini\", \"entropy\"}, default=\"gini\"\n",
    "            The function to measure the quality of a split. Supported criteria are\n",
    "            \"gini\" for the Gini impurity and \"entropy\" for the information gain.\n",
    "    \"\"\"\n",
    "\n",
    "    def __init__(self, n_estimators=10, max_depth=None, n_features=None, bootstrap=True):\n",
    "        self.n_estimators = n_estimators\n",
    "        self.max_depth = max_depth\n",
    "        self.n_features = n_features\n",
    "        self.bootstrap = bootstrap\n",
    "        self.criterion = var_gain\n",
    "            \n",
    "        self.trees = [Tree(criterion=self.criterion) for _ in range(n_estimators)]\n",
    "        \n",
    "    def _init_data(self, X, y):\n",
    "        np.random.seed(42)\n",
    "        random.seed(42)\n",
    "        np.random.RandomState(42)\n",
    "        \n",
    "        \"\"\"Ensure data are in the expected format.\n",
    "        Ensures X and y are stored as numpy ndarrays by converting from an\n",
    "        array-like object if necessary. \n",
    "        Parameters\n",
    "        Args:\n",
    "            X : array-like\n",
    "                Feature dataset.\n",
    "            y : array-like, default=None\n",
    "                Target values. By default is required, but if y_required = false\n",
    "                then may be omitted.\n",
    "        \"\"\"\n",
    "        self.size = len(X)\n",
    "        \n",
    "        if not isinstance(X, np.ndarray):\n",
    "            self.X = np.array(X)\n",
    "        else:\n",
    "            self.X = X\n",
    "\n",
    "        if not isinstance(y, np.ndarray):\n",
    "            self.y = np.array(y)\n",
    "        else:\n",
    "            self.y = y\n",
    "            \n",
    "    def bootstrap_data(self, size):\n",
    "        return np.random.randint(size, size=size)\n",
    "    \n",
    "    def fit(self, X, y):\n",
    "        \"\"\"Fit model.\n",
    "\n",
    "        Args:\n",
    "            X (numpy-array): The training input samples. 2-dimensional numpy array.\n",
    "            y (numpy-array): The target values. 1-dimensional numpy array.\n",
    "        \"\"\"         \n",
    "        if self.n_features is None:\n",
    "            self.n_features = int(np.sqrt(X.shape[1]))\n",
    "        elif X.shape[1] < self.n_features:\n",
    "            raise ValueError(f\"'n_features should be <= n_features'\")\n",
    "            \n",
    "        self._init_data(X, y)\n",
    "        \n",
    "        for tree in self.trees:\n",
    "            if self.bootstrap:\n",
    "                idxs = self.bootstrap_data(self.size)\n",
    "                X = self.X[idxs]\n",
    "                y = self.y[idxs]\n",
    "            else:\n",
    "                X = self.X\n",
    "                y = self.y\n",
    "                \n",
    "            tree.fit(\n",
    "                X,\n",
    "                y,\n",
    "                n_features=self.n_features,\n",
    "                max_depth=self.max_depth,\n",
    "            )\n",
    "            \n",
    "    def predict(self, X):\n",
    "        \"\"\"Make predictions.\n",
    "\n",
    "        Args:\n",
    "            X (numpy-array): The test data input samples. 2-dimensional numpy array.\n",
    "        \"\"\"            \n",
    "        if not isinstance(X, np.ndarray):\n",
    "            X = np.array(X)\n",
    "\n",
    "        if self.X is not None:\n",
    "            predictions = np.zeros(len(X))\n",
    "            for i in range(len(X)):\n",
    "                row_pred = 0.\n",
    "                for tree in self.trees:\n",
    "                    row_pred += tree.predict_row(X[i, :])\n",
    "                \n",
    "                row_pred /= self.n_estimators\n",
    "                predictions[i] = row_pred\n",
    "            return predictions  \n",
    "        else:\n",
    "            raise ValueError(\"You should fit a model before `predict`\")"
   ]
  },
  {
   "cell_type": "code",
   "execution_count": 281,
   "metadata": {
    "ExecuteTime": {
     "end_time": "2021-03-08T07:43:30.315262Z",
     "start_time": "2021-03-08T07:41:26.411468Z"
    }
   },
   "outputs": [
    {
     "name": "stdout",
     "output_type": "stream",
     "text": [
      "Depth = 1: train - 0.03958603300678691, test - 0.042480606629407607\n",
      "Depth = 2: train - 0.02599995979386811, test - 0.029366782536169134\n",
      "Depth = 3: train - 0.014532687959854797, test - 0.01617434370160665\n",
      "Depth = 4: train - 0.01082468842408853, test - 0.012962160263916616\n",
      "Depth = 5: train - 0.007542170325299712, test - 0.010098297637522666\n",
      "Depth = 6: train - 0.0057687330458644935, test - 0.009514272547516404\n",
      "Depth = 7: train - 0.004672633179462628, test - 0.00909608544543007\n",
      "Depth = 8: train - 0.0040546482224147785, test - 0.009081245212698196\n",
      "Depth = 9: train - 0.0037167538387361462, test - 0.008875946867523694\n",
      "Depth = 10: train - 0.0035493017018008778, test - 0.008815927746865895\n"
     ]
    }
   ],
   "source": [
    "# Кастомные лес\n",
    "for d in [1,2,3,4,5,6,7,8,9,10]:\n",
    "    model = RandomForestReg(n_estimators=10, max_depth=d, n_features=5)\n",
    "    model.fit(X_train, y_train)\n",
    "    y_train_pred = model.predict(X_train)\n",
    "    y_test_pred = model.predict(X_test)\n",
    "    print(f\"Depth = {d}: train - {mean_squared_error(y_train, y_train_pred)}, test - {mean_squared_error(y_test, y_test_pred)}\")"
   ]
  },
  {
   "cell_type": "code",
   "execution_count": 283,
   "metadata": {
    "ExecuteTime": {
     "end_time": "2021-03-08T07:45:09.697721Z",
     "start_time": "2021-03-08T07:45:09.383092Z"
    }
   },
   "outputs": [
    {
     "name": "stdout",
     "output_type": "stream",
     "text": [
      "Depth = 1: train - 0.029915690775446518, test - 0.03275130092883677\n",
      "Depth = 2: train - 0.018572803099344455, test - 0.021404539095858693\n",
      "Depth = 3: train - 0.00952668611363455, test - 0.01179254055063723\n",
      "Depth = 4: train - 0.005763212800135863, test - 0.007786403165179224\n",
      "Depth = 5: train - 0.0034614324791566275, test - 0.005489426779071616\n",
      "Depth = 6: train - 0.00205051329343232, test - 0.004317140248090716\n",
      "Depth = 7: train - 0.0013235509849167367, test - 0.0036358508608362074\n",
      "Depth = 8: train - 0.0009427045855771167, test - 0.003404517168117248\n",
      "Depth = 9: train - 0.0007640965754431217, test - 0.0031994085395309247\n",
      "Depth = 10: train - 0.0007297720380176005, test - 0.0032008568072331837\n"
     ]
    }
   ],
   "source": [
    "# Лес из скалерна\n",
    "for d in [1,2,3,4,5,6,7,8,9,10]:\n",
    "    model = RandomForestRegressor(max_depth=d, n_estimators=10, random_state=42, max_features=5)\n",
    "    model.fit(X_train, y_train)\n",
    "    y_train_pred = model.predict(X_train)\n",
    "    y_test_pred = model.predict(X_test)\n",
    "    print(f\"Depth = {d}: train - {mean_squared_error(y_train, y_train_pred)}, test - {mean_squared_error(y_test, y_test_pred)}\")"
   ]
  },
  {
   "cell_type": "markdown",
   "metadata": {},
   "source": [
    "Различия стали еще заметнее, но опять таки же, связываю это с наличием дефолтных парметров в скалерне (которых по сравнению с дерефом стало еще больше) и котрые не реализованы в кастомном лесе."
   ]
  },
  {
   "cell_type": "markdown",
   "metadata": {},
   "source": [
    "# Homework part 3 (bonus). Speeding up forest training process"
   ]
  },
  {
   "cell_type": "markdown",
   "metadata": {},
   "source": [
    "**Task 9 (3 points)** Devise a way to speed up training against the default version of our custom _RandomForestClassifier_ or your own _RandomForestRegressor_. You may want use [`joblib`](https://joblib.readthedocs.io/en/latest/) for parallelizing trees training. Provide graphs of time dependences on the number of trees in your _fast_ version with different number of cores / threads used against default one."
   ]
  },
  {
   "cell_type": "code",
   "execution_count": 297,
   "metadata": {
    "ExecuteTime": {
     "end_time": "2021-03-08T08:29:27.730711Z",
     "start_time": "2021-03-08T08:29:27.713251Z"
    },
    "code_folding": [
     0,
     24,
     33
    ]
   },
   "outputs": [],
   "source": [
    "class RandomForestReg(object):\n",
    "    \"\"\"\n",
    "    A random forest classifier.\n",
    "    A random forest is a meta estimator that fits a number of decision tree\n",
    "    classifiers on various sub-samples of the dataset and uses averaging to\n",
    "    improve the predictive accuracy and control overfitting.\n",
    "    \n",
    "    Args:\n",
    "        n_estimators : int, default=10\n",
    "            The number of trees in the forest.\n",
    "\n",
    "        max_depth : int, default=None\n",
    "            The maximum depth of the tree. If None, then nodes are expanded until\n",
    "            all leaves are pure.        \n",
    "\n",
    "        n_features : int, default=None\n",
    "            The number of features to consider when looking for the best split.\n",
    "            If None, then `n_features=sqrt(n_features)`.\n",
    "\n",
    "        criterion : {\"gini\", \"entropy\"}, default=\"gini\"\n",
    "            The function to measure the quality of a split. Supported criteria are\n",
    "            \"gini\" for the Gini impurity and \"entropy\" for the information gain.\n",
    "    \"\"\"\n",
    "\n",
    "    def __init__(self, n_estimators=10, max_depth=None, n_features=None, bootstrap=True):\n",
    "        self.n_estimators = n_estimators\n",
    "        self.max_depth = max_depth\n",
    "        self.n_features = n_features\n",
    "        self.bootstrap = bootstrap\n",
    "        self.criterion = var_gain\n",
    "            \n",
    "        self.trees = [Tree(criterion=self.criterion) for _ in range(n_estimators)]\n",
    "        \n",
    "    def _init_data(self, X, y):\n",
    "        np.random.seed(42)\n",
    "        random.seed(42)\n",
    "        np.random.RandomState(42)\n",
    "        \n",
    "        \"\"\"Ensure data are in the expected format.\n",
    "        Ensures X and y are stored as numpy ndarrays by converting from an\n",
    "        array-like object if necessary. \n",
    "        Parameters\n",
    "        Args:\n",
    "            X : array-like\n",
    "                Feature dataset.\n",
    "            y : array-like, default=None\n",
    "                Target values. By default is required, but if y_required = false\n",
    "                then may be omitted.\n",
    "        \"\"\"\n",
    "        self.size = len(X)\n",
    "        \n",
    "        if not isinstance(X, np.ndarray):\n",
    "            self.X = np.array(X)\n",
    "        else:\n",
    "            self.X = X\n",
    "\n",
    "        if not isinstance(y, np.ndarray):\n",
    "            self.y = np.array(y)\n",
    "        else:\n",
    "            self.y = y\n",
    "            \n",
    "    def bootstrap_data(self, size):\n",
    "        return np.random.randint(size, size=size)\n",
    "    \n",
    "    def fit_parallel(self, tree):\n",
    "        if self.bootstrap:\n",
    "            idxs = self.bootstrap_data(self.size)\n",
    "            X = self.X[idxs]\n",
    "            y = self.y[idxs]\n",
    "        else:\n",
    "            X = self.X\n",
    "            y = self.y\n",
    "                \n",
    "        tree.fit(\n",
    "            X,\n",
    "            y,\n",
    "            n_features=self.n_features,\n",
    "            max_depth=self.max_depth,\n",
    "        )\n",
    "        \n",
    "        return tree\n",
    "    \n",
    "    \n",
    "    def fit(self, X, y, n_jobs):\n",
    "        \"\"\"Fit model.\n",
    "\n",
    "        Args:\n",
    "            X (numpy-array): The training input samples. 2-dimensional numpy array.\n",
    "            y (numpy-array): The target values. 1-dimensional numpy array.\n",
    "        \"\"\"         \n",
    "        if self.n_features is None:\n",
    "            self.n_features = int(np.sqrt(X.shape[1]))\n",
    "        elif X.shape[1] < self.n_features:\n",
    "            raise ValueError(f\"'n_features should be <= n_features'\")\n",
    "            \n",
    "        self._init_data(X, y)\n",
    "        \n",
    "        self.trees = Parallel(\n",
    "            n_jobs=n_jobs, verbose=False)(\n",
    "            map(delayed(self.fit_parallel), self.trees))\n",
    "            \n",
    "    def predict(self, X):\n",
    "        \"\"\"Make predictions.\n",
    "\n",
    "        Args:\n",
    "            X (numpy-array): The test data input samples. 2-dimensional numpy array.\n",
    "        \"\"\"            \n",
    "        if not isinstance(X, np.ndarray):\n",
    "            X = np.array(X)\n",
    "\n",
    "        if self.X is not None:\n",
    "            predictions = np.zeros(len(X))\n",
    "            for i in range(len(X)):\n",
    "                row_pred = 0.\n",
    "                for tree in self.trees:\n",
    "                    row_pred += tree.predict_row(X[i, :])\n",
    "                \n",
    "                row_pred /= self.n_estimators\n",
    "                predictions[i] = row_pred\n",
    "            return predictions  \n",
    "        else:\n",
    "            raise ValueError(\"You should fit a model before `predict`\")"
   ]
  },
  {
   "cell_type": "code",
   "execution_count": 300,
   "metadata": {
    "ExecuteTime": {
     "end_time": "2021-03-08T08:59:01.991364Z",
     "start_time": "2021-03-08T08:55:39.078227Z"
    }
   },
   "outputs": [
    {
     "data": {
      "application/vnd.jupyter.widget-view+json": {
       "model_id": "5fb8c2e1949d472292f3328a4897be79",
       "version_major": 2,
       "version_minor": 0
      },
      "text/plain": [
       "HBox(children=(IntProgress(value=0, max=5), HTML(value='')))"
      ]
     },
     "metadata": {},
     "output_type": "display_data"
    },
    {
     "name": "stdout",
     "output_type": "stream",
     "text": [
      "\n"
     ]
    }
   ],
   "source": [
    "# Собираем статистику обучения при разном кол-ве деревьев/ядер\n",
    "stat = {}\n",
    "for nj in tqdm([1,2,3,5,10]):\n",
    "    n_estimators_list = []\n",
    "    elapced_time_list = []\n",
    "    \n",
    "    for ne in [1,2,3,4,5,6,7,8,9,10]:\n",
    "        start = time.time()\n",
    "        model = RandomForestReg(n_estimators=ne, max_depth=10, n_features=5)\n",
    "        model.fit(X_train, y_train, n_jobs=nj)\n",
    "        end = time.time()\n",
    "        elapced_time = round(end - start,1)\n",
    "        \n",
    "        n_estimators_list.append(ne)\n",
    "        elapced_time_list.append(elapced_time)\n",
    "        \n",
    "    stat[nj] = (n_estimators_list,elapced_time_list)"
   ]
  },
  {
   "cell_type": "code",
   "execution_count": 311,
   "metadata": {
    "ExecuteTime": {
     "end_time": "2021-03-08T09:35:55.685123Z",
     "start_time": "2021-03-08T09:35:55.347111Z"
    }
   },
   "outputs": [
    {
     "data": {
      "image/png": "[encoded data removed]",
      "text/plain": [
       "<Figure size 1296x504 with 1 Axes>"
      ]
     },
     "metadata": {
      "needs_background": "light"
     },
     "output_type": "display_data"
    }
   ],
   "source": [
    "plt.figure(figsize=(18,7))\n",
    "plt.xlabel('Кол-во деревьев')\n",
    "plt.ylabel('Время (сек.)')\n",
    "plt.title('Зависимоть времени обучения от кол-ва ядер') \n",
    "for s in stat:\n",
    "    ne = stat[s][0]\n",
    "    el = stat[s][1]\n",
    "    sns.lineplot(x=ne, y=el, label=f'n_jobs = {s}')"
   ]
  },
  {
   "cell_type": "markdown",
   "metadata": {},
   "source": [
    "Как можно видеть, при большом кол-ве деревье распаралеливание очень сильно сокращает время обучения."
   ]
  },
  {
   "cell_type": "code",
   "execution_count": null,
   "metadata": {},
   "outputs": [],
   "source": []
  }
 ],
 "metadata": {
  "kernelspec": {
   "display_name": "Python 3",
   "language": "python",
   "name": "python3"
  },
  "language_info": {
   "codemirror_mode": {
    "name": "ipython",
    "version": 3
   },
   "file_extension": ".py",
   "mimetype": "text/x-python",
   "name": "python",
   "nbconvert_exporter": "python",
   "pygments_lexer": "ipython3",
   "version": "3.7.6"
  },
  "toc": {
   "base_numbering": 1,
   "nav_menu": {},
   "number_sections": true,
   "sideBar": true,
   "skip_h1_title": false,
   "title_cell": "Table of Contents",
   "title_sidebar": "Contents",
   "toc_cell": false,
   "toc_position": {
    "height": "calc(100% - 180px)",
    "left": "10px",
    "top": "150px",
    "width": "235px"
   },
   "toc_section_display": true,
   "toc_window_display": true
  },
  "varInspector": {
   "cols": {
    "lenName": 16,
    "lenType": 16,
    "lenVar": 40
   },
   "kernels_config": {
    "python": {
     "delete_cmd_postfix": "",
     "delete_cmd_prefix": "del ",
     "library": "var_list.py",
     "varRefreshCmd": "print(var_dic_list())"
    },
    "r": {
     "delete_cmd_postfix": ") ",
     "delete_cmd_prefix": "rm(",
     "library": "var_list.r",
     "varRefreshCmd": "cat(var_dic_list()) "
    }
   },
   "types_to_exclude": [
    "module",
    "function",
    "builtin_function_or_method",
    "instance",
    "_Feature"
   ],
   "window_display": false
  }
 },
 "nbformat": 4,
 "nbformat_minor": 4
}
