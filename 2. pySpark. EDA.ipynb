{
 "cells": [
  {
   "cell_type": "markdown",
   "metadata": {},
   "source": [
    "# Импорт библиотек"
   ]
  },
  {
   "cell_type": "code",
   "execution_count": 1,
   "metadata": {
    "ExecuteTime": {
     "end_time": "2020-09-09T15:31:40.883690Z",
     "start_time": "2020-09-09T15:31:35.900633Z"
    }
   },
   "outputs": [],
   "source": [
    "import seaborn as sns\n",
    "import matplotlib.pyplot as plt\n",
    "\n",
    "import findspark\n",
    "findspark.init()\n",
    "\n",
    "import pyspark\n",
    "from pyspark.sql import SQLContext\n",
    "import pyspark.sql.functions as f\n",
    "\n",
    "from tqdm.notebook import tqdm\n",
    "from pyspark.ml.stat import Correlation\n",
    "from pyspark.ml.feature import VectorAssembler\n",
    "from pyspark.ml.linalg import Vectors\n",
    "from pyspark.ml.stat import Correlation\n",
    "\n",
    "sc = pyspark.SparkContext(appName='myAppName')\n",
    "sqlContext = SQLContext(sc)"
   ]
  },
  {
   "cell_type": "markdown",
   "metadata": {},
   "source": [
    "# Загрузка данных"
   ]
  },
  {
   "cell_type": "code",
   "execution_count": 2,
   "metadata": {
    "ExecuteTime": {
     "end_time": "2020-09-09T15:31:50.510162Z",
     "start_time": "2020-09-09T15:31:44.813147Z"
    }
   },
   "outputs": [
    {
     "name": "stdout",
     "output_type": "stream",
     "text": [
      "shape: 30787847, 110\n"
     ]
    },
    {
     "data": {
      "text/html": [
       "<div>\n",
       "<style scoped>\n",
       "    .dataframe tbody tr th:only-of-type {\n",
       "        vertical-align: middle;\n",
       "    }\n",
       "\n",
       "    .dataframe tbody tr th {\n",
       "        vertical-align: top;\n",
       "    }\n",
       "\n",
       "    .dataframe thead th {\n",
       "        text-align: right;\n",
       "    }\n",
       "</style>\n",
       "<table border=\"1\" class=\"dataframe\">\n",
       "  <thead>\n",
       "    <tr style=\"text-align: right;\">\n",
       "      <th></th>\n",
       "      <th>instanceId_userId</th>\n",
       "      <th>instanceId_objectType</th>\n",
       "      <th>instanceId_objectId</th>\n",
       "      <th>audit_pos</th>\n",
       "      <th>audit_clientType</th>\n",
       "      <th>audit_timestamp</th>\n",
       "      <th>audit_timePassed</th>\n",
       "      <th>audit_resourceType</th>\n",
       "      <th>metadata_ownerId</th>\n",
       "      <th>metadata_ownerType</th>\n",
       "      <th>...</th>\n",
       "      <th>auditweights_userOwner_USER_PROFILE_VIEW</th>\n",
       "      <th>auditweights_userOwner_VIDEO</th>\n",
       "      <th>auditweights_x_ActorsRelations</th>\n",
       "      <th>auditweights_svd</th>\n",
       "      <th>ImageId</th>\n",
       "      <th>auditweights_likersSvd_hyper</th>\n",
       "      <th>date</th>\n",
       "      <th>liked</th>\n",
       "      <th>hour</th>\n",
       "      <th>dow</th>\n",
       "    </tr>\n",
       "  </thead>\n",
       "  <tbody>\n",
       "    <tr>\n",
       "      <th>0</th>\n",
       "      <td>527</td>\n",
       "      <td>Post</td>\n",
       "      <td>37392482</td>\n",
       "      <td>1</td>\n",
       "      <td>API</td>\n",
       "      <td>1520155645869</td>\n",
       "      <td>11136024</td>\n",
       "      <td>8</td>\n",
       "      <td>19464</td>\n",
       "      <td>GROUP_OPEN_OFFICIAL</td>\n",
       "      <td>...</td>\n",
       "      <td>None</td>\n",
       "      <td>None</td>\n",
       "      <td>None</td>\n",
       "      <td>0.971861</td>\n",
       "      <td>[c9aa648da68a59770d457a77e7498fa8]</td>\n",
       "      <td>0.404382</td>\n",
       "      <td>2018-03-04</td>\n",
       "      <td>0</td>\n",
       "      <td>12</td>\n",
       "      <td>7</td>\n",
       "    </tr>\n",
       "    <tr>\n",
       "      <th>1</th>\n",
       "      <td>572</td>\n",
       "      <td>Post</td>\n",
       "      <td>38438574</td>\n",
       "      <td>51</td>\n",
       "      <td>API</td>\n",
       "      <td>1520165334091</td>\n",
       "      <td>615789</td>\n",
       "      <td>8</td>\n",
       "      <td>78946</td>\n",
       "      <td>GROUP_OPEN_OFFICIAL</td>\n",
       "      <td>...</td>\n",
       "      <td>None</td>\n",
       "      <td>None</td>\n",
       "      <td>None</td>\n",
       "      <td>0.415802</td>\n",
       "      <td>[be106efad83ec1a40d7dab92a78e2a1a, 66775fb29d3...</td>\n",
       "      <td>NaN</td>\n",
       "      <td>2018-03-04</td>\n",
       "      <td>0</td>\n",
       "      <td>15</td>\n",
       "      <td>7</td>\n",
       "    </tr>\n",
       "    <tr>\n",
       "      <th>2</th>\n",
       "      <td>1262</td>\n",
       "      <td>Video</td>\n",
       "      <td>511150</td>\n",
       "      <td>2</td>\n",
       "      <td>API</td>\n",
       "      <td>1520144394061</td>\n",
       "      <td>248661</td>\n",
       "      <td>6</td>\n",
       "      <td>78100</td>\n",
       "      <td>GROUP_OPEN_OFFICIAL</td>\n",
       "      <td>...</td>\n",
       "      <td>None</td>\n",
       "      <td>None</td>\n",
       "      <td>None</td>\n",
       "      <td>0.904096</td>\n",
       "      <td>None</td>\n",
       "      <td>0.895632</td>\n",
       "      <td>2018-03-04</td>\n",
       "      <td>0</td>\n",
       "      <td>9</td>\n",
       "      <td>7</td>\n",
       "    </tr>\n",
       "    <tr>\n",
       "      <th>3</th>\n",
       "      <td>1316</td>\n",
       "      <td>Post</td>\n",
       "      <td>34118682</td>\n",
       "      <td>1</td>\n",
       "      <td>WEB</td>\n",
       "      <td>1520181174095</td>\n",
       "      <td>16408086</td>\n",
       "      <td>8</td>\n",
       "      <td>47200</td>\n",
       "      <td>GROUP_OPEN_OFFICIAL</td>\n",
       "      <td>...</td>\n",
       "      <td>None</td>\n",
       "      <td>None</td>\n",
       "      <td>None</td>\n",
       "      <td>0.249475</td>\n",
       "      <td>[557d8dcf62bf5728ce0e60f94a94e0b9]</td>\n",
       "      <td>NaN</td>\n",
       "      <td>2018-03-04</td>\n",
       "      <td>0</td>\n",
       "      <td>19</td>\n",
       "      <td>7</td>\n",
       "    </tr>\n",
       "    <tr>\n",
       "      <th>4</th>\n",
       "      <td>1316</td>\n",
       "      <td>Post</td>\n",
       "      <td>34093094</td>\n",
       "      <td>5</td>\n",
       "      <td>WEB</td>\n",
       "      <td>1520181319214</td>\n",
       "      <td>145227</td>\n",
       "      <td>8</td>\n",
       "      <td>47200</td>\n",
       "      <td>GROUP_OPEN_OFFICIAL</td>\n",
       "      <td>...</td>\n",
       "      <td>None</td>\n",
       "      <td>None</td>\n",
       "      <td>None</td>\n",
       "      <td>0.236818</td>\n",
       "      <td>[b90effa5e1afecdfb22d4273a57c867e]</td>\n",
       "      <td>NaN</td>\n",
       "      <td>2018-03-04</td>\n",
       "      <td>0</td>\n",
       "      <td>19</td>\n",
       "      <td>7</td>\n",
       "    </tr>\n",
       "    <tr>\n",
       "      <th>5</th>\n",
       "      <td>1316</td>\n",
       "      <td>Photo</td>\n",
       "      <td>6307405</td>\n",
       "      <td>2</td>\n",
       "      <td>WEB</td>\n",
       "      <td>1520193058381</td>\n",
       "      <td>2667185</td>\n",
       "      <td>3</td>\n",
       "      <td>68841</td>\n",
       "      <td>GROUP_OPEN</td>\n",
       "      <td>...</td>\n",
       "      <td>None</td>\n",
       "      <td>None</td>\n",
       "      <td>None</td>\n",
       "      <td>0.116911</td>\n",
       "      <td>None</td>\n",
       "      <td>NaN</td>\n",
       "      <td>2018-03-04</td>\n",
       "      <td>0</td>\n",
       "      <td>22</td>\n",
       "      <td>7</td>\n",
       "    </tr>\n",
       "    <tr>\n",
       "      <th>6</th>\n",
       "      <td>1460</td>\n",
       "      <td>Post</td>\n",
       "      <td>18617580</td>\n",
       "      <td>0</td>\n",
       "      <td>WEB</td>\n",
       "      <td>1520186529845</td>\n",
       "      <td>239844</td>\n",
       "      <td>8</td>\n",
       "      <td>43523</td>\n",
       "      <td>GROUP_OPEN_OFFICIAL</td>\n",
       "      <td>...</td>\n",
       "      <td>None</td>\n",
       "      <td>None</td>\n",
       "      <td>None</td>\n",
       "      <td>0.612801</td>\n",
       "      <td>None</td>\n",
       "      <td>NaN</td>\n",
       "      <td>2018-03-04</td>\n",
       "      <td>0</td>\n",
       "      <td>21</td>\n",
       "      <td>7</td>\n",
       "    </tr>\n",
       "    <tr>\n",
       "      <th>7</th>\n",
       "      <td>2039</td>\n",
       "      <td>Post</td>\n",
       "      <td>30666552</td>\n",
       "      <td>30</td>\n",
       "      <td>WEB</td>\n",
       "      <td>1520170220980</td>\n",
       "      <td>8429661</td>\n",
       "      <td>8</td>\n",
       "      <td>24604</td>\n",
       "      <td>GROUP_OPEN_OFFICIAL</td>\n",
       "      <td>...</td>\n",
       "      <td>None</td>\n",
       "      <td>None</td>\n",
       "      <td>None</td>\n",
       "      <td>0.681724</td>\n",
       "      <td>[ffd7c6423b1bf84423da6080b569ae0f]</td>\n",
       "      <td>0.932278</td>\n",
       "      <td>2018-03-04</td>\n",
       "      <td>0</td>\n",
       "      <td>16</td>\n",
       "      <td>7</td>\n",
       "    </tr>\n",
       "    <tr>\n",
       "      <th>8</th>\n",
       "      <td>2039</td>\n",
       "      <td>Post</td>\n",
       "      <td>25190325</td>\n",
       "      <td>24</td>\n",
       "      <td>WEB</td>\n",
       "      <td>1520170220980</td>\n",
       "      <td>8429661</td>\n",
       "      <td>8</td>\n",
       "      <td>80035</td>\n",
       "      <td>GROUP_OPEN_OFFICIAL</td>\n",
       "      <td>...</td>\n",
       "      <td>None</td>\n",
       "      <td>None</td>\n",
       "      <td>None</td>\n",
       "      <td>0.772499</td>\n",
       "      <td>None</td>\n",
       "      <td>NaN</td>\n",
       "      <td>2018-03-04</td>\n",
       "      <td>0</td>\n",
       "      <td>16</td>\n",
       "      <td>7</td>\n",
       "    </tr>\n",
       "    <tr>\n",
       "      <th>9</th>\n",
       "      <td>2039</td>\n",
       "      <td>Post</td>\n",
       "      <td>38971779</td>\n",
       "      <td>29</td>\n",
       "      <td>WEB</td>\n",
       "      <td>1520189667010</td>\n",
       "      <td>17150073</td>\n",
       "      <td>8</td>\n",
       "      <td>61560</td>\n",
       "      <td>GROUP_OPEN_OFFICIAL</td>\n",
       "      <td>...</td>\n",
       "      <td>None</td>\n",
       "      <td>None</td>\n",
       "      <td>None</td>\n",
       "      <td>0.840345</td>\n",
       "      <td>[eeda35c79b1083eed03ba5b78b59d5c5]</td>\n",
       "      <td>NaN</td>\n",
       "      <td>2018-03-04</td>\n",
       "      <td>0</td>\n",
       "      <td>21</td>\n",
       "      <td>7</td>\n",
       "    </tr>\n",
       "  </tbody>\n",
       "</table>\n",
       "<p>10 rows × 110 columns</p>\n",
       "</div>"
      ],
      "text/plain": [
       "   instanceId_userId instanceId_objectType  instanceId_objectId  audit_pos  \\\n",
       "0                527                  Post             37392482          1   \n",
       "1                572                  Post             38438574         51   \n",
       "2               1262                 Video               511150          2   \n",
       "3               1316                  Post             34118682          1   \n",
       "4               1316                  Post             34093094          5   \n",
       "5               1316                 Photo              6307405          2   \n",
       "6               1460                  Post             18617580          0   \n",
       "7               2039                  Post             30666552         30   \n",
       "8               2039                  Post             25190325         24   \n",
       "9               2039                  Post             38971779         29   \n",
       "\n",
       "  audit_clientType  audit_timestamp  audit_timePassed  audit_resourceType  \\\n",
       "0              API    1520155645869          11136024                   8   \n",
       "1              API    1520165334091            615789                   8   \n",
       "2              API    1520144394061            248661                   6   \n",
       "3              WEB    1520181174095          16408086                   8   \n",
       "4              WEB    1520181319214            145227                   8   \n",
       "5              WEB    1520193058381           2667185                   3   \n",
       "6              WEB    1520186529845            239844                   8   \n",
       "7              WEB    1520170220980           8429661                   8   \n",
       "8              WEB    1520170220980           8429661                   8   \n",
       "9              WEB    1520189667010          17150073                   8   \n",
       "\n",
       "   metadata_ownerId   metadata_ownerType  ...  \\\n",
       "0             19464  GROUP_OPEN_OFFICIAL  ...   \n",
       "1             78946  GROUP_OPEN_OFFICIAL  ...   \n",
       "2             78100  GROUP_OPEN_OFFICIAL  ...   \n",
       "3             47200  GROUP_OPEN_OFFICIAL  ...   \n",
       "4             47200  GROUP_OPEN_OFFICIAL  ...   \n",
       "5             68841           GROUP_OPEN  ...   \n",
       "6             43523  GROUP_OPEN_OFFICIAL  ...   \n",
       "7             24604  GROUP_OPEN_OFFICIAL  ...   \n",
       "8             80035  GROUP_OPEN_OFFICIAL  ...   \n",
       "9             61560  GROUP_OPEN_OFFICIAL  ...   \n",
       "\n",
       "   auditweights_userOwner_USER_PROFILE_VIEW  auditweights_userOwner_VIDEO  \\\n",
       "0                                      None                          None   \n",
       "1                                      None                          None   \n",
       "2                                      None                          None   \n",
       "3                                      None                          None   \n",
       "4                                      None                          None   \n",
       "5                                      None                          None   \n",
       "6                                      None                          None   \n",
       "7                                      None                          None   \n",
       "8                                      None                          None   \n",
       "9                                      None                          None   \n",
       "\n",
       "   auditweights_x_ActorsRelations  auditweights_svd  \\\n",
       "0                            None          0.971861   \n",
       "1                            None          0.415802   \n",
       "2                            None          0.904096   \n",
       "3                            None          0.249475   \n",
       "4                            None          0.236818   \n",
       "5                            None          0.116911   \n",
       "6                            None          0.612801   \n",
       "7                            None          0.681724   \n",
       "8                            None          0.772499   \n",
       "9                            None          0.840345   \n",
       "\n",
       "                                             ImageId  \\\n",
       "0                 [c9aa648da68a59770d457a77e7498fa8]   \n",
       "1  [be106efad83ec1a40d7dab92a78e2a1a, 66775fb29d3...   \n",
       "2                                               None   \n",
       "3                 [557d8dcf62bf5728ce0e60f94a94e0b9]   \n",
       "4                 [b90effa5e1afecdfb22d4273a57c867e]   \n",
       "5                                               None   \n",
       "6                                               None   \n",
       "7                 [ffd7c6423b1bf84423da6080b569ae0f]   \n",
       "8                                               None   \n",
       "9                 [eeda35c79b1083eed03ba5b78b59d5c5]   \n",
       "\n",
       "   auditweights_likersSvd_hyper        date  liked  hour dow  \n",
       "0                      0.404382  2018-03-04      0    12   7  \n",
       "1                           NaN  2018-03-04      0    15   7  \n",
       "2                      0.895632  2018-03-04      0     9   7  \n",
       "3                           NaN  2018-03-04      0    19   7  \n",
       "4                           NaN  2018-03-04      0    19   7  \n",
       "5                           NaN  2018-03-04      0    22   7  \n",
       "6                           NaN  2018-03-04      0    21   7  \n",
       "7                      0.932278  2018-03-04      0    16   7  \n",
       "8                           NaN  2018-03-04      0    16   7  \n",
       "9                           NaN  2018-03-04      0    21   7  \n",
       "\n",
       "[10 rows x 110 columns]"
      ]
     },
     "execution_count": 2,
     "metadata": {},
     "output_type": "execute_result"
    }
   ],
   "source": [
    "df = sqlContext.read.format(\"parquet\").load(\"SNA/\")\n",
    "\n",
    "# выделяем целевую переменную\n",
    "df = df.withColumn(\"liked\", f.array_contains(\"feedback\", \"Liked\").cast('integer'))\n",
    "# Выделяем: часы и дни недели, в которые показаны посты\n",
    "df = df.withColumn(\"hour\", f.from_unixtime(f.col(\"audit_timestamp\") / 1000, \"HH\").cast('integer'))\n",
    "df = df.withColumn(\"dow\", f.date_format(f.from_unixtime(f.col(\"audit_timestamp\") / 1000), \"u\").cast('integer'))\n",
    "\n",
    "print(f'shape: {df.count()}, {len(df.columns)}')\n",
    "\n",
    "df.limit(10).toPandas()"
   ]
  },
  {
   "cell_type": "markdown",
   "metadata": {},
   "source": [
    "- instanceId_userId — идентификатор пользователя (анонимизированный);\n",
    "- instanceId_objectType — тип объекта;\n",
    "- instanceId_objectId — идентификатор объекта (анонимизированный);\n",
    "- feedback — массив с типами реакций пользователя (наличие в массиве токена Liked говорит о том, что объект получил «класс» от пользователя);\n",
    "- audit_clientType — тип платформы, с которой зашёл пользователь;\n",
    "- audit_timestamp — время, когда строилась лента;\n",
    "- metadata_ownerId — автор показанного объекта (анонимизированный);\n",
    "- metadata_createdAt — дата создания показанного объекта.\n",
    "- audit_* — расширенная информация о контексте построения ленты;\n",
    "- metadata_* — расширенная информация о самом объекте;\n",
    "- userOwnerCounters_* — информация о предыдущих взаимодействиях пользователя и автора контента;\n",
    "- ownerUserCounters_* — информация о предыдущих взаимодействиях автора контента и пользователя;\n",
    "- membership_* — информация о членстве пользователя в группе, где опубликован контент;\n",
    "- user_* — подробная информация о пользователе;\n",
    "- auditweights_* — большое количество runtime-признаков, извлечённых текущей системой."
   ]
  },
  {
   "cell_type": "code",
   "execution_count": 3,
   "metadata": {
    "ExecuteTime": {
     "end_time": "2020-09-09T15:42:15.016078Z",
     "start_time": "2020-09-09T15:34:22.833520Z"
    }
   },
   "outputs": [
    {
     "data": {
      "application/vnd.jupyter.widget-view+json": {
       "model_id": "0f2f39bfa37e42c78ab7a080fa151ebe",
       "version_major": 2,
       "version_minor": 0
      },
      "text/plain": [
       "HBox(children=(FloatProgress(value=0.0, max=110.0), HTML(value='')))"
      ]
     },
     "metadata": {},
     "output_type": "display_data"
    }
   ],
   "source": [
    "# Кол-во уникальных значений в каждой фиче\n",
    "for col in tqdm(df.columns):\n",
    "    n_unique = df.agg(f.expr(f'count(distinct {col})').alias('count'))\n",
    "    n_unique = n_unique.collect()[0]['count']\n",
    "\n",
    "    d_type = df.schema[col].dataType\n",
    "\n",
    "    print(col, '-', d_type, '-', n_unique)"
   ]
  },
  {
   "cell_type": "markdown",
   "metadata": {},
   "source": [
    "# EDA"
   ]
  },
  {
   "cell_type": "markdown",
   "metadata": {},
   "source": [
    "## Категориальные фичи"
   ]
  },
  {
   "cell_type": "code",
   "execution_count": 4,
   "metadata": {
    "ExecuteTime": {
     "end_time": "2020-09-09T07:10:03.020250Z",
     "start_time": "2020-09-09T07:10:02.334249Z"
    }
   },
   "outputs": [
    {
     "name": "stdout",
     "output_type": "stream",
     "text": [
      "+---------------------+--------+\n",
      "|instanceId_objectType|   count|\n",
      "+---------------------+--------+\n",
      "|                 Post|28601793|\n",
      "|                Photo| 1411216|\n",
      "|                Video|  774838|\n",
      "+---------------------+--------+\n",
      "\n"
     ]
    }
   ],
   "source": [
    "df.groupBy('instanceId_objectType').count().orderBy(\"count\", ascending=False).show()"
   ]
  },
  {
   "cell_type": "code",
   "execution_count": 3,
   "metadata": {
    "ExecuteTime": {
     "end_time": "2020-09-09T07:10:00.833926Z",
     "start_time": "2020-09-09T07:09:59.478919Z"
    }
   },
   "outputs": [
    {
     "name": "stdout",
     "output_type": "stream",
     "text": [
      "+----------------+--------+\n",
      "|audit_clientType|   count|\n",
      "+----------------+--------+\n",
      "|             API|13819364|\n",
      "|             WEB|12885232|\n",
      "|             MOB| 4083251|\n",
      "+----------------+--------+\n",
      "\n"
     ]
    }
   ],
   "source": [
    "df.groupBy('audit_clientType').count().orderBy(\"count\", ascending=False).show()"
   ]
  },
  {
   "cell_type": "code",
   "execution_count": 81,
   "metadata": {
    "ExecuteTime": {
     "end_time": "2020-09-09T14:05:48.005731Z",
     "start_time": "2020-09-09T14:05:47.531732Z"
    }
   },
   "outputs": [
    {
     "name": "stdout",
     "output_type": "stream",
     "text": [
      "+------------------+--------+\n",
      "|audit_resourceType|   count|\n",
      "+------------------+--------+\n",
      "|                 8|26332009|\n",
      "|                 3| 1411216|\n",
      "|                 7| 1335147|\n",
      "|                14|  934637|\n",
      "|                 6|  774838|\n",
      "+------------------+--------+\n",
      "\n"
     ]
    }
   ],
   "source": [
    "df.groupBy('audit_resourceType').count().orderBy(\"count\", ascending=False).show()"
   ]
  },
  {
   "cell_type": "code",
   "execution_count": 85,
   "metadata": {
    "ExecuteTime": {
     "end_time": "2020-09-09T14:07:18.569197Z",
     "start_time": "2020-09-09T14:07:17.810208Z"
    }
   },
   "outputs": [
    {
     "name": "stdout",
     "output_type": "stream",
     "text": [
      "+-------------------+--------+\n",
      "| metadata_ownerType|   count|\n",
      "+-------------------+--------+\n",
      "|GROUP_OPEN_OFFICIAL|26742841|\n",
      "|         GROUP_OPEN| 4045006|\n",
      "+-------------------+--------+\n",
      "\n"
     ]
    }
   ],
   "source": [
    "df.groupBy('metadata_ownerType').count().orderBy(\"count\", ascending=False).show()"
   ]
  },
  {
   "cell_type": "code",
   "execution_count": 82,
   "metadata": {
    "ExecuteTime": {
     "end_time": "2020-09-09T14:05:54.625869Z",
     "start_time": "2020-09-09T14:05:54.171870Z"
    }
   },
   "outputs": [
    {
     "name": "stdout",
     "output_type": "stream",
     "text": [
      "+-----------------+--------+\n",
      "|metadata_numPolls|   count|\n",
      "+-----------------+--------+\n",
      "|                0|28499204|\n",
      "|                1| 2246143|\n",
      "|                2|   41634|\n",
      "|                3|     562|\n",
      "|                4|     196|\n",
      "|                5|      48|\n",
      "|               10|      16|\n",
      "|               12|       9|\n",
      "|               11|       9|\n",
      "|                7|       7|\n",
      "|               16|       6|\n",
      "|                6|       5|\n",
      "|                8|       4|\n",
      "|                9|       2|\n",
      "|               14|       2|\n",
      "+-----------------+--------+\n",
      "\n"
     ]
    }
   ],
   "source": [
    "df.groupBy('metadata_numPolls').count().orderBy(\"count\", ascending=False).show()"
   ]
  },
  {
   "cell_type": "code",
   "execution_count": 84,
   "metadata": {
    "ExecuteTime": {
     "end_time": "2020-09-09T14:06:03.621358Z",
     "start_time": "2020-09-09T14:06:03.035359Z"
    }
   },
   "outputs": [
    {
     "name": "stdout",
     "output_type": "stream",
     "text": [
      "+-----------------+--------+\n",
      "|metadata_platform|   count|\n",
      "+-----------------+--------+\n",
      "|            OTHER|19358156|\n",
      "|              WEB| 7872480|\n",
      "|          ANDROID| 2824261|\n",
      "|              MOB|  429094|\n",
      "|              IOS|  283943|\n",
      "|         WINPHONE|   19913|\n",
      "+-----------------+--------+\n",
      "\n"
     ]
    }
   ],
   "source": [
    "df.groupBy('metadata_platform').count().orderBy(\"count\", ascending=False).show()"
   ]
  },
  {
   "cell_type": "code",
   "execution_count": 86,
   "metadata": {
    "ExecuteTime": {
     "end_time": "2020-09-09T14:09:20.007149Z",
     "start_time": "2020-09-09T14:09:19.400160Z"
    }
   },
   "outputs": [
    {
     "name": "stdout",
     "output_type": "stream",
     "text": [
      "+-----------------+--------+\n",
      "|membership_status|   count|\n",
      "+-----------------+--------+\n",
      "|                A|19694468|\n",
      "|             null|10958920|\n",
      "|                P|  106140|\n",
      "|                I|    9619|\n",
      "|                M|    8320|\n",
      "|                Y|    7380|\n",
      "|                !|    2527|\n",
      "|                B|     467|\n",
      "|                R|       6|\n",
      "+-----------------+--------+\n",
      "\n"
     ]
    }
   ],
   "source": [
    "df.groupBy('membership_status').count().orderBy(\"count\", ascending=False).show()"
   ]
  },
  {
   "cell_type": "code",
   "execution_count": 5,
   "metadata": {
    "ExecuteTime": {
     "end_time": "2020-09-09T07:10:04.321682Z",
     "start_time": "2020-09-09T07:10:03.582681Z"
    }
   },
   "outputs": [
    {
     "name": "stdout",
     "output_type": "stream",
     "text": [
      "+-----------+--------+\n",
      "|user_gender|   count|\n",
      "+-----------+--------+\n",
      "|          2|22751497|\n",
      "|          1| 8034354|\n",
      "|       null|    1986|\n",
      "|          0|      10|\n",
      "+-----------+--------+\n",
      "\n"
     ]
    }
   ],
   "source": [
    "df.groupBy('user_gender').count().orderBy(\"count\", ascending=False).show()"
   ]
  },
  {
   "cell_type": "code",
   "execution_count": 87,
   "metadata": {
    "ExecuteTime": {
     "end_time": "2020-09-09T14:09:46.262542Z",
     "start_time": "2020-09-09T14:09:45.792553Z"
    }
   },
   "outputs": [
    {
     "name": "stdout",
     "output_type": "stream",
     "text": [
      "+-----------+--------+\n",
      "|user_status|   count|\n",
      "+-----------+--------+\n",
      "|        128|29246267|\n",
      "|        192| 1534224|\n",
      "|         32|    3510|\n",
      "|       null|    1986|\n",
      "|         16|    1755|\n",
      "|         96|      86|\n",
      "|         80|      19|\n",
      "+-----------+--------+\n",
      "\n"
     ]
    }
   ],
   "source": [
    "df.groupBy('user_status').count().orderBy(\"count\", ascending=False).show()"
   ]
  },
  {
   "cell_type": "code",
   "execution_count": 88,
   "metadata": {
    "ExecuteTime": {
     "end_time": "2020-09-09T14:11:14.099781Z",
     "start_time": "2020-09-09T14:11:13.718780Z"
    }
   },
   "outputs": [
    {
     "name": "stdout",
     "output_type": "stream",
     "text": [
      "+--------------+--------+\n",
      "|user_is_active|   count|\n",
      "+--------------+--------+\n",
      "|             1|30780491|\n",
      "|             0|    5370|\n",
      "|          null|    1986|\n",
      "+--------------+--------+\n",
      "\n"
     ]
    }
   ],
   "source": [
    "df.groupBy('user_is_active').count().orderBy(\"count\", ascending=False).show()"
   ]
  },
  {
   "cell_type": "code",
   "execution_count": 89,
   "metadata": {
    "ExecuteTime": {
     "end_time": "2020-09-09T14:11:18.479049Z",
     "start_time": "2020-09-09T14:11:18.079042Z"
    }
   },
   "outputs": [
    {
     "name": "stdout",
     "output_type": "stream",
     "text": [
      "+---------------+--------+\n",
      "|user_is_deleted|   count|\n",
      "+---------------+--------+\n",
      "|              0|30784087|\n",
      "|           null|    1986|\n",
      "|              1|    1774|\n",
      "+---------------+--------+\n",
      "\n"
     ]
    }
   ],
   "source": [
    "df.groupBy('user_is_deleted').count().orderBy(\"count\", ascending=False).show()"
   ]
  },
  {
   "cell_type": "code",
   "execution_count": 90,
   "metadata": {
    "ExecuteTime": {
     "end_time": "2020-09-09T14:11:23.466800Z",
     "start_time": "2020-09-09T14:11:23.094802Z"
    }
   },
   "outputs": [
    {
     "name": "stdout",
     "output_type": "stream",
     "text": [
      "+--------------+--------+\n",
      "|user_is_abused|   count|\n",
      "+--------------+--------+\n",
      "|             0|30782265|\n",
      "|             1|    3596|\n",
      "|          null|    1986|\n",
      "+--------------+--------+\n",
      "\n"
     ]
    }
   ],
   "source": [
    "df.groupBy('user_is_abused').count().orderBy(\"count\", ascending=False).show()"
   ]
  },
  {
   "cell_type": "code",
   "execution_count": 91,
   "metadata": {
    "ExecuteTime": {
     "end_time": "2020-09-09T14:11:29.039334Z",
     "start_time": "2020-09-09T14:11:28.679335Z"
    }
   },
   "outputs": [
    {
     "name": "stdout",
     "output_type": "stream",
     "text": [
      "+-----------------+--------+\n",
      "|user_is_activated|   count|\n",
      "+-----------------+--------+\n",
      "|                1|30785858|\n",
      "|             null|    1986|\n",
      "|                0|       3|\n",
      "+-----------------+--------+\n",
      "\n"
     ]
    }
   ],
   "source": [
    "df.groupBy('user_is_activated').count().orderBy(\"count\", ascending=False).show()"
   ]
  },
  {
   "cell_type": "code",
   "execution_count": 92,
   "metadata": {
    "ExecuteTime": {
     "end_time": "2020-09-09T14:12:24.210133Z",
     "start_time": "2020-09-09T14:12:23.814144Z"
    }
   },
   "outputs": [
    {
     "name": "stdout",
     "output_type": "stream",
     "text": [
      "+---------------------+--------+\n",
      "|user_is_semiactivated|   count|\n",
      "+---------------------+--------+\n",
      "|                    0|28438211|\n",
      "|                 null| 2325433|\n",
      "|                    1|   24203|\n",
      "+---------------------+--------+\n",
      "\n"
     ]
    }
   ],
   "source": [
    "df.groupBy('user_is_semiactivated').count().orderBy(\"count\", ascending=False).show()"
   ]
  },
  {
   "cell_type": "markdown",
   "metadata": {},
   "source": [
    "## Популярность групп..."
   ]
  },
  {
   "cell_type": "markdown",
   "metadata": {},
   "source": [
    "... по количеству публикаций"
   ]
  },
  {
   "cell_type": "code",
   "execution_count": 7,
   "metadata": {
    "ExecuteTime": {
     "end_time": "2020-09-09T07:10:14.593521Z",
     "start_time": "2020-09-09T07:10:07.119742Z"
    }
   },
   "outputs": [
    {
     "name": "stdout",
     "output_type": "stream",
     "text": [
      "+----------------+------+\n",
      "|metadata_ownerId| count|\n",
      "+----------------+------+\n",
      "|           37463|117830|\n",
      "|           11222| 86560|\n",
      "|           65305| 85199|\n",
      "|           76851| 80982|\n",
      "|           38703| 73092|\n",
      "|           18942| 72232|\n",
      "|           62833| 68176|\n",
      "|           60195| 67020|\n",
      "|           11163| 66018|\n",
      "|           67111| 65434|\n",
      "+----------------+------+\n",
      "only showing top 10 rows\n",
      "\n"
     ]
    }
   ],
   "source": [
    "df.groupBy(\"metadata_ownerId\").count().orderBy(\"count\", ascending=False).show(10)"
   ]
  },
  {
   "cell_type": "markdown",
   "metadata": {},
   "source": [
    "... по количеству членов группы"
   ]
  },
  {
   "cell_type": "code",
   "execution_count": 9,
   "metadata": {
    "ExecuteTime": {
     "end_time": "2020-09-09T07:10:34.334496Z",
     "start_time": "2020-09-09T07:10:27.958478Z"
    }
   },
   "outputs": [
    {
     "name": "stdout",
     "output_type": "stream",
     "text": [
      "+----------------+-----+\n",
      "|metadata_ownerId|count|\n",
      "+----------------+-----+\n",
      "|           76851|71193|\n",
      "|           65305|56387|\n",
      "|           38703|51029|\n",
      "|           60195|49951|\n",
      "|           67111|48724|\n",
      "|           37463|47367|\n",
      "|           10644|44296|\n",
      "|           30830|42305|\n",
      "|           11222|41663|\n",
      "|           66769|40229|\n",
      "+----------------+-----+\n",
      "only showing top 10 rows\n",
      "\n"
     ]
    }
   ],
   "source": [
    "df.filter(df[\"membership_status\"].isNotNull()).groupBy(\"metadata_ownerId\").count().orderBy(\"count\", ascending=False).show(10)"
   ]
  },
  {
   "cell_type": "markdown",
   "metadata": {},
   "source": [
    "... по количеству лайков"
   ]
  },
  {
   "cell_type": "code",
   "execution_count": 10,
   "metadata": {
    "ExecuteTime": {
     "end_time": "2020-09-09T07:10:43.166087Z",
     "start_time": "2020-09-09T07:10:35.901963Z"
    }
   },
   "outputs": [
    {
     "name": "stdout",
     "output_type": "stream",
     "text": [
      "+----------------+-----+\n",
      "|metadata_ownerId|count|\n",
      "+----------------+-----+\n",
      "|           37463|32472|\n",
      "|           11222|22994|\n",
      "|           62833|18689|\n",
      "|           18942|17532|\n",
      "|           11163|16327|\n",
      "|           60195|15947|\n",
      "|           23051|15393|\n",
      "|           17215|15155|\n",
      "|           65305|15150|\n",
      "|           79619|14474|\n",
      "+----------------+-----+\n",
      "only showing top 10 rows\n",
      "\n"
     ]
    }
   ],
   "source": [
    "df.filter(\"liked == 1\").groupBy(\"metadata_ownerId\").count().orderBy(\"count\", ascending=False).show(10)"
   ]
  },
  {
   "cell_type": "markdown",
   "metadata": {},
   "source": [
    "## Графики"
   ]
  },
  {
   "cell_type": "code",
   "execution_count": 15,
   "metadata": {
    "ExecuteTime": {
     "end_time": "2020-09-09T16:10:01.773891Z",
     "start_time": "2020-09-09T16:07:50.285309Z"
    }
   },
   "outputs": [
    {
     "data": {
      "image/png": "[encoded data removed]",
      "text/plain": [
       "<Figure size 1224x432 with 1 Axes>"
      ]
     },
     "metadata": {
      "needs_background": "light"
     },
     "output_type": "display_data"
    }
   ],
   "source": [
    "df1 = df.select(\"hour\",\"liked\").sampleBy(\"liked\", fractions={0: 0.2, 1: 0.2}, seed=0).toPandas()\n",
    "\n",
    "plt.figure(figsize=(17,6))\n",
    "sns.histplot(df1, x=\"hour\", hue=\"liked\", multiple=\"stack\", bins=24);\n",
    "plt.title('Доля лайков не зависят от времени показа');"
   ]
  },
  {
   "cell_type": "code",
   "execution_count": 16,
   "metadata": {
    "ExecuteTime": {
     "end_time": "2020-09-09T16:12:41.737655Z",
     "start_time": "2020-09-09T16:10:29.818150Z"
    }
   },
   "outputs": [
    {
     "data": {
      "image/png": "[encoded data removed]",
      "text/plain": [
       "<Figure size 1079.17x288 with 1 Axes>"
      ]
     },
     "metadata": {
      "needs_background": "light"
     },
     "output_type": "display_data"
    }
   ],
   "source": [
    "df1 = df.select(\"dow\",\"liked\").sampleBy(\"liked\", fractions={0: 0.2, 1: 0.2}, seed=0).toPandas()\n",
    "\n",
    "sns.catplot(data=df1, x=\"dow\", kind=\"count\", hue=\"liked\", height=4, aspect=3.6)\n",
    "plt.title('По дням недели серьезного перекоса не наблюдается');"
   ]
  },
  {
   "cell_type": "code",
   "execution_count": 17,
   "metadata": {
    "ExecuteTime": {
     "end_time": "2020-09-09T16:15:56.841338Z",
     "start_time": "2020-09-09T16:12:53.619520Z"
    }
   },
   "outputs": [
    {
     "data": {
      "image/png": "[encoded data removed]",
      "text/plain": [
       "<Figure size 1079.17x288 with 1 Axes>"
      ]
     },
     "metadata": {
      "needs_background": "light"
     },
     "output_type": "display_data"
    }
   ],
   "source": [
    "df1 = df.select(\"audit_clientType\",\"liked\").sampleBy(\"liked\", fractions={0: 0.2, 1: 0.2}, seed=0).toPandas()\n",
    "\n",
    "sns.catplot(data=df1, y=\"audit_clientType\", kind=\"count\", hue=\"liked\", height=4, aspect=3.6, orient='h')\n",
    "plt.title('С мобильных устройств смотрят значительно меньше');"
   ]
  },
  {
   "cell_type": "code",
   "execution_count": 18,
   "metadata": {
    "ExecuteTime": {
     "end_time": "2020-09-09T16:19:08.420115Z",
     "start_time": "2020-09-09T16:16:06.595680Z"
    }
   },
   "outputs": [
    {
     "data": {
      "image/png": "[encoded data removed]",
      "text/plain": [
       "<Figure size 1079.17x288 with 1 Axes>"
      ]
     },
     "metadata": {
      "needs_background": "light"
     },
     "output_type": "display_data"
    }
   ],
   "source": [
    "df1 = df.select(\"instanceId_objectType\",\"liked\").sampleBy(\"liked\", fractions={0: 0.2, 1: 0.2}, seed=0).toPandas()\n",
    "\n",
    "sns.catplot(data=df1, y=\"instanceId_objectType\", kind=\"count\", hue=\"liked\", height=4, aspect=3.6, orient='h')\n",
    "plt.title('Текстовые посты в абсолютном исчислении выгоднее');"
   ]
  },
  {
   "cell_type": "code",
   "execution_count": 19,
   "metadata": {
    "ExecuteTime": {
     "end_time": "2020-09-09T16:21:57.690666Z",
     "start_time": "2020-09-09T16:19:48.822946Z"
    }
   },
   "outputs": [
    {
     "data": {
      "image/png": "[encoded data removed]",
      "text/plain": [
       "<Figure size 1035.97x216 with 1 Axes>"
      ]
     },
     "metadata": {
      "needs_background": "light"
     },
     "output_type": "display_data"
    }
   ],
   "source": [
    "df1 = df.select(\"user_gender\",\"liked\").sampleBy(\"liked\", fractions={0: 0.2, 1: 0.2}, seed=0).toPandas()\n",
    "\n",
    "sns.catplot(data=df1, y=\"user_gender\", kind=\"count\", hue=\"liked\", height=3, aspect=4.6, orient='h')\n",
    "plt.title('Выгоднее готовить контент для женской аудитории');"
   ]
  },
  {
   "cell_type": "code",
   "execution_count": 20,
   "metadata": {
    "ExecuteTime": {
     "end_time": "2020-09-09T16:26:49.510921Z",
     "start_time": "2020-09-09T16:22:42.556562Z"
    }
   },
   "outputs": [
    {
     "data": {
      "image/png": "[encoded data removed]",
      "text/plain": [
       "<Figure size 1035.97x216 with 1 Axes>"
      ]
     },
     "metadata": {
      "needs_background": "light"
     },
     "output_type": "display_data"
    }
   ],
   "source": [
    "df1 = df.select(\"metadata_ownerType\",\"liked\").sampleBy(\"liked\", fractions={0: 0.2, 1: 0.2}, seed=0).toPandas()\n",
    "\n",
    "sns.catplot(data=df1, y=\"metadata_ownerType\", kind=\"count\", hue=\"liked\", height=3, aspect=4.6, orient='h')\n",
    "plt.title('Официальные группы популярнее');"
   ]
  },
  {
   "cell_type": "code",
   "execution_count": 33,
   "metadata": {
    "ExecuteTime": {
     "end_time": "2020-09-09T17:02:50.941557Z",
     "start_time": "2020-09-09T16:59:44.418686Z"
    }
   },
   "outputs": [
    {
     "data": {
      "image/png": "[encoded data removed]",
      "text/plain": [
       "<Figure size 1079.17x288 with 1 Axes>"
      ]
     },
     "metadata": {
      "needs_background": "light"
     },
     "output_type": "display_data"
    }
   ],
   "source": [
    "df1 = df.select(\"metadata_platform\",\"liked\").sampleBy(\"liked\", fractions={0: 0.2, 1: 0.2}, seed=0).toPandas()\n",
    "\n",
    "sns.catplot(data=df1, x=\"metadata_platform\", kind=\"count\", hue=\"liked\", height=4, aspect=3.6)\n",
    "plt.title('Большенство трафика непонятно откуда...');"
   ]
  },
  {
   "cell_type": "code",
   "execution_count": 32,
   "metadata": {
    "ExecuteTime": {
     "end_time": "2020-09-09T16:59:08.954649Z",
     "start_time": "2020-09-09T16:56:39.020912Z"
    }
   },
   "outputs": [
    {
     "data": {
      "image/png": "[encoded data removed]",
      "text/plain": [
       "<Figure size 1224x288 with 1 Axes>"
      ]
     },
     "metadata": {
      "needs_background": "light"
     },
     "output_type": "display_data"
    }
   ],
   "source": [
    "df1 = df.select(\"user_gender\",\"auditweights_userAge\",\"liked\").sampleBy(\n",
    "    \"liked\", fractions={0: 0.2, 1: 0.2}, seed=0).toPandas()\n",
    "\n",
    "plt.figure(figsize=(17,4))\n",
    "sns.boxplot(y=\"user_gender\", x=\"auditweights_userAge\", hue=\"liked\", data=df1, orient='h')\n",
    "plt.title('Чем моложе, тем охотнее ставят лайки');"
   ]
  },
  {
   "cell_type": "markdown",
   "metadata": {},
   "source": [
    "# Корреляция"
   ]
  },
  {
   "cell_type": "code",
   "execution_count": 12,
   "metadata": {
    "ExecuteTime": {
     "end_time": "2020-09-09T15:55:20.587466Z",
     "start_time": "2020-09-09T15:54:13.014466Z"
    },
    "code_folding": [
     0
    ]
   },
   "outputs": [
    {
     "name": "stdout",
     "output_type": "stream",
     "text": [
      "audit_pos: 0.01345\n",
      "audit_timePassed: 0.01074\n",
      "metadata_numCompanions: -0.00408\n",
      "metadata_numPhotos: 0.00066\n",
      "metadata_numSymbols: -0.03827\n",
      "metadata_numTokens: -0.03828\n",
      "metadata_totalVideoLength: -0.0101\n",
      "userOwnerCounters_USER_FEED_REMOVE: -0.03753\n",
      "userOwnerCounters_UNKNOWN: 0.0006\n",
      "userOwnerCounters_CREATE_TOPIC: 0.00136\n",
      "userOwnerCounters_CREATE_IMAGE: 0.00021\n",
      "userOwnerCounters_CREATE_MOVIE: 0.00037\n",
      "userOwnerCounters_CREATE_COMMENT: -0.00036\n",
      "userOwnerCounters_CREATE_LIKE: 0.08363\n",
      "userOwnerCounters_IMAGE: -0.00627\n",
      "userOwnerCounters_VIDEO: -0.00356\n",
      "auditweights_ageMs: 0.02956\n",
      "auditweights_ctr_gender: 0.00482\n",
      "auditweights_ctr_high: 0.14511\n",
      "auditweights_ctr_negative: 3e-05\n",
      "auditweights_dailyRecency: -0.02917\n",
      "auditweights_feedOwner_RECOMMENDED_GROUP: -0.04568\n",
      "auditweights_feedStats: 0.05907\n",
      "auditweights_likersFeedStats_hyper: 0.03311\n",
      "auditweights_numDislikes: 0.01205\n",
      "auditweights_numLikes: 0.02165\n",
      "auditweights_numShows: -0.00014\n",
      "auditweights_userAge: -0.02461\n",
      "auditweights_userOwner_CREATE_COMMENT: 0.01076\n",
      "auditweights_userOwner_CREATE_IMAGE: -0.00437\n",
      "auditweights_userOwner_CREATE_LIKE: 0.10049\n",
      "auditweights_userOwner_IMAGE: 0.00195\n",
      "auditweights_userOwner_PHOTO_VIEW: -9e-05\n",
      "auditweights_userOwner_TEXT: 0.00107\n",
      "auditweights_userOwner_UNKNOWN: -0.01632\n",
      "auditweights_userOwner_USER_FEED_REMOVE: -0.0204\n",
      "auditweights_userOwner_VIDEO: -0.00641\n",
      "auditweights_x_ActorsRelations: 0.00165\n",
      "auditweights_svd: 0.27625\n",
      "auditweights_likersSvd_hyper: 0.04049\n",
      "hour: -0.01069\n"
     ]
    }
   ],
   "source": [
    "cols = [\n",
    "    'audit_pos',\n",
    "    'audit_timePassed',\n",
    "    'metadata_numCompanions',\n",
    "    'metadata_numPhotos',\n",
    "    'metadata_numSymbols',\n",
    "    'metadata_numTokens',\n",
    "    'metadata_totalVideoLength',\n",
    "    'userOwnerCounters_USER_FEED_REMOVE',\n",
    "    'userOwnerCounters_UNKNOWN',\n",
    "    'userOwnerCounters_CREATE_TOPIC',\n",
    "    'userOwnerCounters_CREATE_IMAGE',\n",
    "    'userOwnerCounters_CREATE_MOVIE',\n",
    "    'userOwnerCounters_CREATE_COMMENT',\n",
    "    'userOwnerCounters_CREATE_LIKE',\n",
    "    'userOwnerCounters_IMAGE',\n",
    "    'userOwnerCounters_VIDEO',\n",
    "    'auditweights_ageMs',\n",
    "    'auditweights_ctr_gender',\n",
    "    'auditweights_ctr_high',\n",
    "    'auditweights_ctr_negative',\n",
    "    'auditweights_dailyRecency',\n",
    "    'auditweights_feedOwner_RECOMMENDED_GROUP',\n",
    "    'auditweights_feedStats',\n",
    "    'auditweights_likersFeedStats_hyper',\n",
    "    'auditweights_numDislikes',\n",
    "    'auditweights_numLikes',\n",
    "    'auditweights_numShows',\n",
    "    'auditweights_userAge',\n",
    "    'auditweights_userOwner_CREATE_COMMENT',\n",
    "    'auditweights_userOwner_CREATE_IMAGE',\n",
    "    'auditweights_userOwner_CREATE_LIKE',\n",
    "    'auditweights_userOwner_IMAGE',\n",
    "    'auditweights_userOwner_PHOTO_VIEW',\n",
    "    'auditweights_userOwner_TEXT',\n",
    "    'auditweights_userOwner_UNKNOWN',\n",
    "    'auditweights_userOwner_USER_FEED_REMOVE',\n",
    "    'auditweights_userOwner_VIDEO',\n",
    "    'auditweights_x_ActorsRelations',\n",
    "    'auditweights_svd',\n",
    "    'auditweights_likersSvd_hyper',\n",
    "    'hour']\n",
    "\n",
    "for col in cols:\n",
    "    corr = df.stat.corr(col, \"liked\")\n",
    "    print(f'{col}:', round(corr,5))"
   ]
  },
  {
   "cell_type": "code",
   "execution_count": null,
   "metadata": {},
   "outputs": [],
   "source": []
  }
 ],
 "metadata": {
  "finalized": {
   "timestamp": 1599667276937,
   "trusted": true
  },
  "kernelspec": {
   "display_name": "Python 3",
   "language": "python",
   "name": "python3"
  },
  "language_info": {
   "codemirror_mode": {
    "name": "ipython",
    "version": 3
   },
   "file_extension": ".py",
   "mimetype": "text/x-python",
   "name": "python",
   "nbconvert_exporter": "python",
   "pygments_lexer": "ipython3",
   "version": "3.7.6"
  },
  "toc": {
   "base_numbering": 1,
   "nav_menu": {},
   "number_sections": true,
   "sideBar": true,
   "skip_h1_title": false,
   "title_cell": "Table of Contents",
   "title_sidebar": "Contents",
   "toc_cell": false,
   "toc_position": {
    "height": "calc(100% - 180px)",
    "left": "10px",
    "top": "150px",
    "width": "384px"
   },
   "toc_section_display": true,
   "toc_window_display": true
  },
  "varInspector": {
   "cols": {
    "lenName": 16,
    "lenType": 16,
    "lenVar": 40
   },
   "kernels_config": {
    "python": {
     "delete_cmd_postfix": "",
     "delete_cmd_prefix": "del ",
     "library": "var_list.py",
     "varRefreshCmd": "print(var_dic_list())"
    },
    "r": {
     "delete_cmd_postfix": ") ",
     "delete_cmd_prefix": "rm(",
     "library": "var_list.r",
     "varRefreshCmd": "cat(var_dic_list()) "
    }
   },
   "types_to_exclude": [
    "module",
    "function",
    "builtin_function_or_method",
    "instance",
    "_Feature"
   ],
   "window_display": false
  }
 },
 "nbformat": 4,
 "nbformat_minor": 4
}
